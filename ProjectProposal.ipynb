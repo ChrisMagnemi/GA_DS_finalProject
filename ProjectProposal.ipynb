{
 "cells": [
  {
   "cell_type": "markdown",
   "metadata": {},
   "source": [
    "Project Proposal: Daily News for Stock Market Prediction"
   ]
  },
  {
   "cell_type": "markdown",
   "metadata": {},
   "source": [
    "Datasets: https://www.kaggle.com/aaron7sun/stocknews\n",
    "\n",
    "Reddit_News.csv\n",
    "\n",
    "DJIA_table.csv\n",
    "\n",
    "Combined_News_DJIA.csv\n"
   ]
  },
  {
   "cell_type": "markdown",
   "metadata": {},
   "source": [
    "Goal: My understanding of the stock market is that price changes are truly rooted in real world events, not just numbers from previous days on the market. I'm hoping to uncover some correlation or causation between real world news headlines and stock changes on the Dow Jones Industrial Average (DJIA) "
   ]
  },
  {
   "cell_type": "markdown",
   "metadata": {},
   "source": [
    "Data exploration:\n",
    "- I'm planning to play with string manipulation to discover trends with 'positive' or 'negative' headlines, headlines about certain countries, and more.\n",
    "- I'd like to put headlines into categories such as 'terrorism', 'environment', 'political', etc.\n",
    "\n",
    "Predictors: I will be doing a lot of feature creation from the headlines in order to create predictor variables\n",
    "\n",
    "Response: My response variable will be percent increase/decrease in the DJIA\n",
    "\n",
    "\n",
    "I believe a decison tree will yield the best regression in this case"
   ]
  },
  {
   "cell_type": "code",
   "execution_count": null,
   "metadata": {
    "collapsed": true
   },
   "outputs": [],
   "source": []
  },
  {
   "cell_type": "code",
   "execution_count": null,
   "metadata": {
    "collapsed": true
   },
   "outputs": [],
   "source": []
  },
  {
   "cell_type": "markdown",
   "metadata": {},
   "source": [
    "Quick in-class 30 second proposal script: <br><b>\n",
    "1. What will you predict / classify / cluster</b>I plan to use top news headlines from 2008 to 2016 to predict change in closing price of the Dow Jones price each day.<b>\n",
    "2. What kind of problem is it? (classification, regression, clustering) <br>\n",
    "</b> This is a regression problem and I plan to make it all numeric. That means my predictors will all be numbers based on the news headlines from alot of the NLP stuff we've learned. Like sentiment analysis, term frequencies, counts of political, or social keywords, and other methods<b>\n",
    "3. What dataset will you use? <br>\n",
    "</b>\n",
    "4. How will you evaluate your model's performance? (R^2, AUC, Percision, recall, etc.) <br></b>Then I'll evaluate regression models with R^2, adjusted R^2, RMSE, p-values"
   ]
  },
  {
   "cell_type": "markdown",
   "metadata": {},
   "source": [
    "I will try to predict the change in closing price of the Dow day to day using top news headlines from 2008 to 2016. Using NLP on the news headlines I'll create a bunch of numeric predictors. Then I'll evaluate my model with common regression indicators like R^2, adj-R^2, RMSE, p-values and others."
   ]
  },
  {
   "cell_type": "markdown",
   "metadata": {},
   "source": [
    "<b>Elevator Pitch:</b> <br>\n",
    "So I found daily data from 2008 to 2016 of top 25 news headlines along with information on the Dow Jones. So I'm going to use NLP on the news headlines to come up with a bunch of numeric predictors like sentiment analysis, term frequency, counts of terms in certain categories like political, social, technology. Then I'll do some type of regression to hopefully predict the change in price of the Dow and make a bunch of money. To evaluate I'll use common regression indicators R^2, adj R^2, MSE."
   ]
  },
  {
   "cell_type": "markdown",
   "metadata": {},
   "source": [
    "<h3><b>Must Avoid Survivorship Bias</b></h3>\n",
    "stocks increase over time no matter what, dow in 1940 was much smaller than today"
   ]
  }
 ],
 "metadata": {
  "kernelspec": {
   "display_name": "Python 2",
   "language": "python",
   "name": "python2"
  },
  "language_info": {
   "codemirror_mode": {
    "name": "ipython",
    "version": 2
   },
   "file_extension": ".py",
   "mimetype": "text/x-python",
   "name": "python",
   "nbconvert_exporter": "python",
   "pygments_lexer": "ipython2",
   "version": "2.7.13"
  }
 },
 "nbformat": 4,
 "nbformat_minor": 2
}
