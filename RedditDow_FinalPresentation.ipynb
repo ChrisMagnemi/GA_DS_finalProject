{
 "cells": [
  {
   "cell_type": "markdown",
   "metadata": {
    "slideshow": {
     "slide_type": "slide"
    }
   },
   "source": [
    "<h3> Project Question and Dataset </h3>\n",
    "\n",
    "The stock market is supposedly based on real world events, so I plan to predict the change in the Dow Jones Industrial Average from open to close and from one day's close to the next day's using the Top 25 Reddit 'WorldNews' headlines of each day.\n",
    "\n",
    "The data is from kaggle : https://www.kaggle.com/aaron7sun/stocknews <br>\n",
    "Its made up of 3 datasets: Dow price data, Reddit Top25 WorldNews headlines, and a combination of the two based on date. The stories and links on Reddit are constantly checked by moderators to ensure accuracy and prevent misleading or fake news. The 'Top 25' are determined by which headlines are 'hottest' meaning the more likes or upvotes, the higher a headline appear on the list. \n",
    "\n",
    "I became interested in predicting stocks early on thinking that there is so much data out there and so many potential numerical features this would be a good first true Data Science Project for myself, and would be something that I could show employers. Secondly, as a bit of a get-rich-quick scheme, I could figure out the stock market and make a bunch of money. Then after our NLP class, one of my favorites all summer, I wanted to use NLP techniques in my project. Luckily I found this great combined Dow and News dataset."
   ]
  },
  {
   "cell_type": "code",
   "execution_count": 1,
   "metadata": {
    "collapsed": true,
    "slideshow": {
     "slide_type": "-"
    }
   },
   "outputs": [],
   "source": [
    "import pandas as pd\n",
    "import numpy as np\n",
    "import matplotlib.pyplot as plt\n",
    "%matplotlib inline\n",
    "import seaborn as sns\n",
    "sns.set()"
   ]
  },
  {
   "cell_type": "code",
   "execution_count": 2,
   "metadata": {
    "slideshow": {
     "slide_type": "slide"
    }
   },
   "outputs": [
    {
     "name": "stdout",
     "output_type": "stream",
     "text": [
      "(1989, 27)\n"
     ]
    },
    {
     "data": {
      "text/html": [
       "<div>\n",
       "<style>\n",
       "    .dataframe thead tr:only-child th {\n",
       "        text-align: right;\n",
       "    }\n",
       "\n",
       "    .dataframe thead th {\n",
       "        text-align: left;\n",
       "    }\n",
       "\n",
       "    .dataframe tbody tr th {\n",
       "        vertical-align: top;\n",
       "    }\n",
       "</style>\n",
       "<table border=\"1\" class=\"dataframe\">\n",
       "  <thead>\n",
       "    <tr style=\"text-align: right;\">\n",
       "      <th></th>\n",
       "      <th>Date</th>\n",
       "      <th>Label</th>\n",
       "      <th>Top1</th>\n",
       "      <th>Top2</th>\n",
       "      <th>Top3</th>\n",
       "      <th>Top4</th>\n",
       "      <th>Top5</th>\n",
       "      <th>Top6</th>\n",
       "      <th>Top7</th>\n",
       "      <th>Top8</th>\n",
       "      <th>...</th>\n",
       "      <th>Top16</th>\n",
       "      <th>Top17</th>\n",
       "      <th>Top18</th>\n",
       "      <th>Top19</th>\n",
       "      <th>Top20</th>\n",
       "      <th>Top21</th>\n",
       "      <th>Top22</th>\n",
       "      <th>Top23</th>\n",
       "      <th>Top24</th>\n",
       "      <th>Top25</th>\n",
       "    </tr>\n",
       "  </thead>\n",
       "  <tbody>\n",
       "    <tr>\n",
       "      <th>0</th>\n",
       "      <td>2008-08-08</td>\n",
       "      <td>0</td>\n",
       "      <td>b\"Georgia 'downs two Russian warplanes' as cou...</td>\n",
       "      <td>b'BREAKING: Musharraf to be impeached.'</td>\n",
       "      <td>b'Russia Today: Columns of troops roll into So...</td>\n",
       "      <td>b'Russian tanks are moving towards the capital...</td>\n",
       "      <td>b\"Afghan children raped with 'impunity,' U.N. ...</td>\n",
       "      <td>b'150 Russian tanks have entered South Ossetia...</td>\n",
       "      <td>b\"Breaking: Georgia invades South Ossetia, Rus...</td>\n",
       "      <td>b\"The 'enemy combatent' trials are nothing but...</td>\n",
       "      <td>...</td>\n",
       "      <td>b'Georgia Invades South Ossetia - if Russia ge...</td>\n",
       "      <td>b'Al-Qaeda Faces Islamist Backlash'</td>\n",
       "      <td>b'Condoleezza Rice: \"The US would not act to p...</td>\n",
       "      <td>b'This is a busy day:  The European Union has ...</td>\n",
       "      <td>b\"Georgia will withdraw 1,000 soldiers from Ir...</td>\n",
       "      <td>b'Why the Pentagon Thinks Attacking Iran is a ...</td>\n",
       "      <td>b'Caucasus in crisis: Georgia invades South Os...</td>\n",
       "      <td>b'Indian shoe manufactory  - And again in a se...</td>\n",
       "      <td>b'Visitors Suffering from Mental Illnesses Ban...</td>\n",
       "      <td>b\"No Help for Mexico's Kidnapping Surge\"</td>\n",
       "    </tr>\n",
       "    <tr>\n",
       "      <th>1</th>\n",
       "      <td>2008-08-11</td>\n",
       "      <td>1</td>\n",
       "      <td>b'Why wont America and Nato help us? If they w...</td>\n",
       "      <td>b'Bush puts foot down on Georgian conflict'</td>\n",
       "      <td>b\"Jewish Georgian minister: Thanks to Israeli ...</td>\n",
       "      <td>b'Georgian army flees in disarray as Russians ...</td>\n",
       "      <td>b\"Olympic opening ceremony fireworks 'faked'\"</td>\n",
       "      <td>b'What were the Mossad with fraudulent New Zea...</td>\n",
       "      <td>b'Russia angered by Israeli military sale to G...</td>\n",
       "      <td>b'An American citizen living in S.Ossetia blam...</td>\n",
       "      <td>...</td>\n",
       "      <td>b'Israel and the US behind the Georgian aggres...</td>\n",
       "      <td>b'\"Do not believe TV, neither Russian nor Geor...</td>\n",
       "      <td>b'Riots are still going on in Montreal (Canada...</td>\n",
       "      <td>b'China to overtake US as largest manufacturer'</td>\n",
       "      <td>b'War in South Ossetia [PICS]'</td>\n",
       "      <td>b'Israeli Physicians Group Condemns State Tort...</td>\n",
       "      <td>b' Russia has just beaten the United States ov...</td>\n",
       "      <td>b'Perhaps *the* question about the Georgia - R...</td>\n",
       "      <td>b'Russia is so much better at war'</td>\n",
       "      <td>b\"So this is what it's come to: trading sex fo...</td>\n",
       "    </tr>\n",
       "    <tr>\n",
       "      <th>2</th>\n",
       "      <td>2008-08-12</td>\n",
       "      <td>0</td>\n",
       "      <td>b'Remember that adorable 9-year-old who sang a...</td>\n",
       "      <td>b\"Russia 'ends Georgia operation'\"</td>\n",
       "      <td>b'\"If we had no sexual harassment we would hav...</td>\n",
       "      <td>b\"Al-Qa'eda is losing support in Iraq because ...</td>\n",
       "      <td>b'Ceasefire in Georgia: Putin Outmaneuvers the...</td>\n",
       "      <td>b'Why Microsoft and Intel tried to kill the XO...</td>\n",
       "      <td>b'Stratfor: The Russo-Georgian War and the Bal...</td>\n",
       "      <td>b\"I'm Trying to Get a Sense of This Whole Geor...</td>\n",
       "      <td>...</td>\n",
       "      <td>b'U.S. troops still in Georgia (did you know t...</td>\n",
       "      <td>b'Why Russias response to Georgia was right'</td>\n",
       "      <td>b'Gorbachev accuses U.S. of making a \"serious ...</td>\n",
       "      <td>b'Russia, Georgia, and NATO: Cold War Two'</td>\n",
       "      <td>b'Remember that adorable 62-year-old who led y...</td>\n",
       "      <td>b'War in Georgia: The Israeli connection'</td>\n",
       "      <td>b'All signs point to the US encouraging Georgi...</td>\n",
       "      <td>b'Christopher King argues that the US and NATO...</td>\n",
       "      <td>b'America: The New Mexico?'</td>\n",
       "      <td>b\"BBC NEWS | Asia-Pacific | Extinction 'by man...</td>\n",
       "    </tr>\n",
       "  </tbody>\n",
       "</table>\n",
       "<p>3 rows × 27 columns</p>\n",
       "</div>"
      ],
      "text/plain": [
       "         Date  Label                                               Top1  \\\n",
       "0  2008-08-08      0  b\"Georgia 'downs two Russian warplanes' as cou...   \n",
       "1  2008-08-11      1  b'Why wont America and Nato help us? If they w...   \n",
       "2  2008-08-12      0  b'Remember that adorable 9-year-old who sang a...   \n",
       "\n",
       "                                          Top2  \\\n",
       "0      b'BREAKING: Musharraf to be impeached.'   \n",
       "1  b'Bush puts foot down on Georgian conflict'   \n",
       "2           b\"Russia 'ends Georgia operation'\"   \n",
       "\n",
       "                                                Top3  \\\n",
       "0  b'Russia Today: Columns of troops roll into So...   \n",
       "1  b\"Jewish Georgian minister: Thanks to Israeli ...   \n",
       "2  b'\"If we had no sexual harassment we would hav...   \n",
       "\n",
       "                                                Top4  \\\n",
       "0  b'Russian tanks are moving towards the capital...   \n",
       "1  b'Georgian army flees in disarray as Russians ...   \n",
       "2  b\"Al-Qa'eda is losing support in Iraq because ...   \n",
       "\n",
       "                                                Top5  \\\n",
       "0  b\"Afghan children raped with 'impunity,' U.N. ...   \n",
       "1      b\"Olympic opening ceremony fireworks 'faked'\"   \n",
       "2  b'Ceasefire in Georgia: Putin Outmaneuvers the...   \n",
       "\n",
       "                                                Top6  \\\n",
       "0  b'150 Russian tanks have entered South Ossetia...   \n",
       "1  b'What were the Mossad with fraudulent New Zea...   \n",
       "2  b'Why Microsoft and Intel tried to kill the XO...   \n",
       "\n",
       "                                                Top7  \\\n",
       "0  b\"Breaking: Georgia invades South Ossetia, Rus...   \n",
       "1  b'Russia angered by Israeli military sale to G...   \n",
       "2  b'Stratfor: The Russo-Georgian War and the Bal...   \n",
       "\n",
       "                                                Top8  \\\n",
       "0  b\"The 'enemy combatent' trials are nothing but...   \n",
       "1  b'An American citizen living in S.Ossetia blam...   \n",
       "2  b\"I'm Trying to Get a Sense of This Whole Geor...   \n",
       "\n",
       "                         ...                          \\\n",
       "0                        ...                           \n",
       "1                        ...                           \n",
       "2                        ...                           \n",
       "\n",
       "                                               Top16  \\\n",
       "0  b'Georgia Invades South Ossetia - if Russia ge...   \n",
       "1  b'Israel and the US behind the Georgian aggres...   \n",
       "2  b'U.S. troops still in Georgia (did you know t...   \n",
       "\n",
       "                                               Top17  \\\n",
       "0                b'Al-Qaeda Faces Islamist Backlash'   \n",
       "1  b'\"Do not believe TV, neither Russian nor Geor...   \n",
       "2       b'Why Russias response to Georgia was right'   \n",
       "\n",
       "                                               Top18  \\\n",
       "0  b'Condoleezza Rice: \"The US would not act to p...   \n",
       "1  b'Riots are still going on in Montreal (Canada...   \n",
       "2  b'Gorbachev accuses U.S. of making a \"serious ...   \n",
       "\n",
       "                                               Top19  \\\n",
       "0  b'This is a busy day:  The European Union has ...   \n",
       "1    b'China to overtake US as largest manufacturer'   \n",
       "2         b'Russia, Georgia, and NATO: Cold War Two'   \n",
       "\n",
       "                                               Top20  \\\n",
       "0  b\"Georgia will withdraw 1,000 soldiers from Ir...   \n",
       "1                     b'War in South Ossetia [PICS]'   \n",
       "2  b'Remember that adorable 62-year-old who led y...   \n",
       "\n",
       "                                               Top21  \\\n",
       "0  b'Why the Pentagon Thinks Attacking Iran is a ...   \n",
       "1  b'Israeli Physicians Group Condemns State Tort...   \n",
       "2          b'War in Georgia: The Israeli connection'   \n",
       "\n",
       "                                               Top22  \\\n",
       "0  b'Caucasus in crisis: Georgia invades South Os...   \n",
       "1  b' Russia has just beaten the United States ov...   \n",
       "2  b'All signs point to the US encouraging Georgi...   \n",
       "\n",
       "                                               Top23  \\\n",
       "0  b'Indian shoe manufactory  - And again in a se...   \n",
       "1  b'Perhaps *the* question about the Georgia - R...   \n",
       "2  b'Christopher King argues that the US and NATO...   \n",
       "\n",
       "                                               Top24  \\\n",
       "0  b'Visitors Suffering from Mental Illnesses Ban...   \n",
       "1                 b'Russia is so much better at war'   \n",
       "2                        b'America: The New Mexico?'   \n",
       "\n",
       "                                               Top25  \n",
       "0           b\"No Help for Mexico's Kidnapping Surge\"  \n",
       "1  b\"So this is what it's come to: trading sex fo...  \n",
       "2  b\"BBC NEWS | Asia-Pacific | Extinction 'by man...  \n",
       "\n",
       "[3 rows x 27 columns]"
      ]
     },
     "execution_count": 2,
     "metadata": {},
     "output_type": "execute_result"
    }
   ],
   "source": [
    "# read in news headlines dataset\n",
    "reddit = pd.read_csv('stocknews/Combined_News_DJIA.csv')\n",
    "print reddit.shape\n",
    "reddit.head(3)"
   ]
  },
  {
   "cell_type": "code",
   "execution_count": 3,
   "metadata": {
    "slideshow": {
     "slide_type": "slide"
    }
   },
   "outputs": [
    {
     "name": "stdout",
     "output_type": "stream",
     "text": [
      "(1989, 7)\n"
     ]
    },
    {
     "data": {
      "text/html": [
       "<div>\n",
       "<style>\n",
       "    .dataframe thead tr:only-child th {\n",
       "        text-align: right;\n",
       "    }\n",
       "\n",
       "    .dataframe thead th {\n",
       "        text-align: left;\n",
       "    }\n",
       "\n",
       "    .dataframe tbody tr th {\n",
       "        vertical-align: top;\n",
       "    }\n",
       "</style>\n",
       "<table border=\"1\" class=\"dataframe\">\n",
       "  <thead>\n",
       "    <tr style=\"text-align: right;\">\n",
       "      <th></th>\n",
       "      <th>Date</th>\n",
       "      <th>Open</th>\n",
       "      <th>High</th>\n",
       "      <th>Low</th>\n",
       "      <th>Close</th>\n",
       "      <th>Volume</th>\n",
       "      <th>Adj Close</th>\n",
       "    </tr>\n",
       "  </thead>\n",
       "  <tbody>\n",
       "    <tr>\n",
       "      <th>0</th>\n",
       "      <td>2016-07-01</td>\n",
       "      <td>17924.240234</td>\n",
       "      <td>18002.380859</td>\n",
       "      <td>17916.910156</td>\n",
       "      <td>17949.369141</td>\n",
       "      <td>82160000</td>\n",
       "      <td>17949.369141</td>\n",
       "    </tr>\n",
       "    <tr>\n",
       "      <th>1</th>\n",
       "      <td>2016-06-30</td>\n",
       "      <td>17712.759766</td>\n",
       "      <td>17930.609375</td>\n",
       "      <td>17711.800781</td>\n",
       "      <td>17929.990234</td>\n",
       "      <td>133030000</td>\n",
       "      <td>17929.990234</td>\n",
       "    </tr>\n",
       "    <tr>\n",
       "      <th>2</th>\n",
       "      <td>2016-06-29</td>\n",
       "      <td>17456.019531</td>\n",
       "      <td>17704.509766</td>\n",
       "      <td>17456.019531</td>\n",
       "      <td>17694.679688</td>\n",
       "      <td>106380000</td>\n",
       "      <td>17694.679688</td>\n",
       "    </tr>\n",
       "  </tbody>\n",
       "</table>\n",
       "</div>"
      ],
      "text/plain": [
       "         Date          Open          High           Low         Close  \\\n",
       "0  2016-07-01  17924.240234  18002.380859  17916.910156  17949.369141   \n",
       "1  2016-06-30  17712.759766  17930.609375  17711.800781  17929.990234   \n",
       "2  2016-06-29  17456.019531  17704.509766  17456.019531  17694.679688   \n",
       "\n",
       "      Volume     Adj Close  \n",
       "0   82160000  17949.369141  \n",
       "1  133030000  17929.990234  \n",
       "2  106380000  17694.679688  "
      ]
     },
     "execution_count": 3,
     "metadata": {},
     "output_type": "execute_result"
    }
   ],
   "source": [
    "# read in DJIA dataset\n",
    "dow = pd.read_csv('stocknews/DJIA_table.csv')\n",
    "print dow.shape\n",
    "dow.head(3)"
   ]
  },
  {
   "cell_type": "code",
   "execution_count": 4,
   "metadata": {
    "slideshow": {
     "slide_type": "slide"
    }
   },
   "outputs": [
    {
     "data": {
      "text/html": [
       "<div>\n",
       "<style>\n",
       "    .dataframe thead tr:only-child th {\n",
       "        text-align: right;\n",
       "    }\n",
       "\n",
       "    .dataframe thead th {\n",
       "        text-align: left;\n",
       "    }\n",
       "\n",
       "    .dataframe tbody tr th {\n",
       "        vertical-align: top;\n",
       "    }\n",
       "</style>\n",
       "<table border=\"1\" class=\"dataframe\">\n",
       "  <thead>\n",
       "    <tr style=\"text-align: right;\">\n",
       "      <th></th>\n",
       "      <th>Date</th>\n",
       "      <th>Open</th>\n",
       "      <th>High</th>\n",
       "      <th>Low</th>\n",
       "      <th>Close</th>\n",
       "      <th>Volume</th>\n",
       "      <th>Adj Close</th>\n",
       "      <th>Label</th>\n",
       "      <th>Top1</th>\n",
       "      <th>Top2</th>\n",
       "      <th>...</th>\n",
       "      <th>Top16</th>\n",
       "      <th>Top17</th>\n",
       "      <th>Top18</th>\n",
       "      <th>Top19</th>\n",
       "      <th>Top20</th>\n",
       "      <th>Top21</th>\n",
       "      <th>Top22</th>\n",
       "      <th>Top23</th>\n",
       "      <th>Top24</th>\n",
       "      <th>Top25</th>\n",
       "    </tr>\n",
       "  </thead>\n",
       "  <tbody>\n",
       "    <tr>\n",
       "      <th>1988</th>\n",
       "      <td>2008-08-08</td>\n",
       "      <td>11432.089844</td>\n",
       "      <td>11759.959961</td>\n",
       "      <td>11388.040039</td>\n",
       "      <td>11734.320312</td>\n",
       "      <td>212830000</td>\n",
       "      <td>11734.320312</td>\n",
       "      <td>0</td>\n",
       "      <td>b\"Georgia 'downs two Russian warplanes' as cou...</td>\n",
       "      <td>b'BREAKING: Musharraf to be impeached.'</td>\n",
       "      <td>...</td>\n",
       "      <td>b'Georgia Invades South Ossetia - if Russia ge...</td>\n",
       "      <td>b'Al-Qaeda Faces Islamist Backlash'</td>\n",
       "      <td>b'Condoleezza Rice: \"The US would not act to p...</td>\n",
       "      <td>b'This is a busy day:  The European Union has ...</td>\n",
       "      <td>b\"Georgia will withdraw 1,000 soldiers from Ir...</td>\n",
       "      <td>b'Why the Pentagon Thinks Attacking Iran is a ...</td>\n",
       "      <td>b'Caucasus in crisis: Georgia invades South Os...</td>\n",
       "      <td>b'Indian shoe manufactory  - And again in a se...</td>\n",
       "      <td>b'Visitors Suffering from Mental Illnesses Ban...</td>\n",
       "      <td>b\"No Help for Mexico's Kidnapping Surge\"</td>\n",
       "    </tr>\n",
       "    <tr>\n",
       "      <th>1987</th>\n",
       "      <td>2008-08-11</td>\n",
       "      <td>11729.669922</td>\n",
       "      <td>11867.110352</td>\n",
       "      <td>11675.530273</td>\n",
       "      <td>11782.349609</td>\n",
       "      <td>183190000</td>\n",
       "      <td>11782.349609</td>\n",
       "      <td>1</td>\n",
       "      <td>b'Why wont America and Nato help us? If they w...</td>\n",
       "      <td>b'Bush puts foot down on Georgian conflict'</td>\n",
       "      <td>...</td>\n",
       "      <td>b'Israel and the US behind the Georgian aggres...</td>\n",
       "      <td>b'\"Do not believe TV, neither Russian nor Geor...</td>\n",
       "      <td>b'Riots are still going on in Montreal (Canada...</td>\n",
       "      <td>b'China to overtake US as largest manufacturer'</td>\n",
       "      <td>b'War in South Ossetia [PICS]'</td>\n",
       "      <td>b'Israeli Physicians Group Condemns State Tort...</td>\n",
       "      <td>b' Russia has just beaten the United States ov...</td>\n",
       "      <td>b'Perhaps *the* question about the Georgia - R...</td>\n",
       "      <td>b'Russia is so much better at war'</td>\n",
       "      <td>b\"So this is what it's come to: trading sex fo...</td>\n",
       "    </tr>\n",
       "    <tr>\n",
       "      <th>1986</th>\n",
       "      <td>2008-08-12</td>\n",
       "      <td>11781.700195</td>\n",
       "      <td>11782.349609</td>\n",
       "      <td>11601.519531</td>\n",
       "      <td>11642.469727</td>\n",
       "      <td>173590000</td>\n",
       "      <td>11642.469727</td>\n",
       "      <td>0</td>\n",
       "      <td>b'Remember that adorable 9-year-old who sang a...</td>\n",
       "      <td>b\"Russia 'ends Georgia operation'\"</td>\n",
       "      <td>...</td>\n",
       "      <td>b'U.S. troops still in Georgia (did you know t...</td>\n",
       "      <td>b'Why Russias response to Georgia was right'</td>\n",
       "      <td>b'Gorbachev accuses U.S. of making a \"serious ...</td>\n",
       "      <td>b'Russia, Georgia, and NATO: Cold War Two'</td>\n",
       "      <td>b'Remember that adorable 62-year-old who led y...</td>\n",
       "      <td>b'War in Georgia: The Israeli connection'</td>\n",
       "      <td>b'All signs point to the US encouraging Georgi...</td>\n",
       "      <td>b'Christopher King argues that the US and NATO...</td>\n",
       "      <td>b'America: The New Mexico?'</td>\n",
       "      <td>b\"BBC NEWS | Asia-Pacific | Extinction 'by man...</td>\n",
       "    </tr>\n",
       "  </tbody>\n",
       "</table>\n",
       "<p>3 rows × 33 columns</p>\n",
       "</div>"
      ],
      "text/plain": [
       "            Date          Open          High           Low         Close  \\\n",
       "1988  2008-08-08  11432.089844  11759.959961  11388.040039  11734.320312   \n",
       "1987  2008-08-11  11729.669922  11867.110352  11675.530273  11782.349609   \n",
       "1986  2008-08-12  11781.700195  11782.349609  11601.519531  11642.469727   \n",
       "\n",
       "         Volume     Adj Close  Label  \\\n",
       "1988  212830000  11734.320312      0   \n",
       "1987  183190000  11782.349609      1   \n",
       "1986  173590000  11642.469727      0   \n",
       "\n",
       "                                                   Top1  \\\n",
       "1988  b\"Georgia 'downs two Russian warplanes' as cou...   \n",
       "1987  b'Why wont America and Nato help us? If they w...   \n",
       "1986  b'Remember that adorable 9-year-old who sang a...   \n",
       "\n",
       "                                             Top2  \\\n",
       "1988      b'BREAKING: Musharraf to be impeached.'   \n",
       "1987  b'Bush puts foot down on Georgian conflict'   \n",
       "1986           b\"Russia 'ends Georgia operation'\"   \n",
       "\n",
       "                            ...                          \\\n",
       "1988                        ...                           \n",
       "1987                        ...                           \n",
       "1986                        ...                           \n",
       "\n",
       "                                                  Top16  \\\n",
       "1988  b'Georgia Invades South Ossetia - if Russia ge...   \n",
       "1987  b'Israel and the US behind the Georgian aggres...   \n",
       "1986  b'U.S. troops still in Georgia (did you know t...   \n",
       "\n",
       "                                                  Top17  \\\n",
       "1988                b'Al-Qaeda Faces Islamist Backlash'   \n",
       "1987  b'\"Do not believe TV, neither Russian nor Geor...   \n",
       "1986       b'Why Russias response to Georgia was right'   \n",
       "\n",
       "                                                  Top18  \\\n",
       "1988  b'Condoleezza Rice: \"The US would not act to p...   \n",
       "1987  b'Riots are still going on in Montreal (Canada...   \n",
       "1986  b'Gorbachev accuses U.S. of making a \"serious ...   \n",
       "\n",
       "                                                  Top19  \\\n",
       "1988  b'This is a busy day:  The European Union has ...   \n",
       "1987    b'China to overtake US as largest manufacturer'   \n",
       "1986         b'Russia, Georgia, and NATO: Cold War Two'   \n",
       "\n",
       "                                                  Top20  \\\n",
       "1988  b\"Georgia will withdraw 1,000 soldiers from Ir...   \n",
       "1987                     b'War in South Ossetia [PICS]'   \n",
       "1986  b'Remember that adorable 62-year-old who led y...   \n",
       "\n",
       "                                                  Top21  \\\n",
       "1988  b'Why the Pentagon Thinks Attacking Iran is a ...   \n",
       "1987  b'Israeli Physicians Group Condemns State Tort...   \n",
       "1986          b'War in Georgia: The Israeli connection'   \n",
       "\n",
       "                                                  Top22  \\\n",
       "1988  b'Caucasus in crisis: Georgia invades South Os...   \n",
       "1987  b' Russia has just beaten the United States ov...   \n",
       "1986  b'All signs point to the US encouraging Georgi...   \n",
       "\n",
       "                                                  Top23  \\\n",
       "1988  b'Indian shoe manufactory  - And again in a se...   \n",
       "1987  b'Perhaps *the* question about the Georgia - R...   \n",
       "1986  b'Christopher King argues that the US and NATO...   \n",
       "\n",
       "                                                  Top24  \\\n",
       "1988  b'Visitors Suffering from Mental Illnesses Ban...   \n",
       "1987                 b'Russia is so much better at war'   \n",
       "1986                        b'America: The New Mexico?'   \n",
       "\n",
       "                                                  Top25  \n",
       "1988           b\"No Help for Mexico's Kidnapping Surge\"  \n",
       "1987  b\"So this is what it's come to: trading sex fo...  \n",
       "1986  b\"BBC NEWS | Asia-Pacific | Extinction 'by man...  \n",
       "\n",
       "[3 rows x 33 columns]"
      ]
     },
     "execution_count": 4,
     "metadata": {},
     "output_type": "execute_result"
    }
   ],
   "source": [
    "# merge the two into one dataset by date\n",
    "master_df = dow.merge(reddit, how='outer')\n",
    "master_df = master_df.iloc[::-1]\n",
    "master_df.head(3)"
   ]
  },
  {
   "cell_type": "code",
   "execution_count": 5,
   "metadata": {
    "collapsed": true,
    "slideshow": {
     "slide_type": "slide"
    }
   },
   "outputs": [],
   "source": [
    "# combine all 25 headlines into single 'news' column\n",
    "def create_news_array(df_name, col_start,col_end):\n",
    "    news_array = []\n",
    "    rows = range(0,len(df_name.index))\n",
    "    for row in rows:\n",
    "        news_array.append(' '.join(str(x).lower() for x in df_name.iloc[row, col_start:col_end]))\n",
    "    return news_array\n",
    "\n",
    "news_array = create_news_array(master_df, 8,32)\n"
   ]
  },
  {
   "cell_type": "code",
   "execution_count": 6,
   "metadata": {
    "slideshow": {
     "slide_type": "-"
    }
   },
   "outputs": [
    {
     "data": {
      "text/html": [
       "<div>\n",
       "<style>\n",
       "    .dataframe thead tr:only-child th {\n",
       "        text-align: right;\n",
       "    }\n",
       "\n",
       "    .dataframe thead th {\n",
       "        text-align: left;\n",
       "    }\n",
       "\n",
       "    .dataframe tbody tr th {\n",
       "        vertical-align: top;\n",
       "    }\n",
       "</style>\n",
       "<table border=\"1\" class=\"dataframe\">\n",
       "  <thead>\n",
       "    <tr style=\"text-align: right;\">\n",
       "      <th></th>\n",
       "      <th>Date</th>\n",
       "      <th>Open</th>\n",
       "      <th>High</th>\n",
       "      <th>Low</th>\n",
       "      <th>Close</th>\n",
       "      <th>Volume</th>\n",
       "      <th>Adj Close</th>\n",
       "      <th>Label</th>\n",
       "      <th>Top1</th>\n",
       "      <th>Top2</th>\n",
       "      <th>...</th>\n",
       "      <th>Top17</th>\n",
       "      <th>Top18</th>\n",
       "      <th>Top19</th>\n",
       "      <th>Top20</th>\n",
       "      <th>Top21</th>\n",
       "      <th>Top22</th>\n",
       "      <th>Top23</th>\n",
       "      <th>Top24</th>\n",
       "      <th>Top25</th>\n",
       "      <th>news</th>\n",
       "    </tr>\n",
       "  </thead>\n",
       "  <tbody>\n",
       "    <tr>\n",
       "      <th>1988</th>\n",
       "      <td>2008-08-08</td>\n",
       "      <td>11432.089844</td>\n",
       "      <td>11759.959961</td>\n",
       "      <td>11388.040039</td>\n",
       "      <td>11734.320312</td>\n",
       "      <td>212830000</td>\n",
       "      <td>11734.320312</td>\n",
       "      <td>0</td>\n",
       "      <td>b\"Georgia 'downs two Russian warplanes' as cou...</td>\n",
       "      <td>b'BREAKING: Musharraf to be impeached.'</td>\n",
       "      <td>...</td>\n",
       "      <td>b'Al-Qaeda Faces Islamist Backlash'</td>\n",
       "      <td>b'Condoleezza Rice: \"The US would not act to p...</td>\n",
       "      <td>b'This is a busy day:  The European Union has ...</td>\n",
       "      <td>b\"Georgia will withdraw 1,000 soldiers from Ir...</td>\n",
       "      <td>b'Why the Pentagon Thinks Attacking Iran is a ...</td>\n",
       "      <td>b'Caucasus in crisis: Georgia invades South Os...</td>\n",
       "      <td>b'Indian shoe manufactory  - And again in a se...</td>\n",
       "      <td>b'Visitors Suffering from Mental Illnesses Ban...</td>\n",
       "      <td>b\"No Help for Mexico's Kidnapping Surge\"</td>\n",
       "      <td>b\"georgia 'downs two russian warplanes' as cou...</td>\n",
       "    </tr>\n",
       "    <tr>\n",
       "      <th>1987</th>\n",
       "      <td>2008-08-11</td>\n",
       "      <td>11729.669922</td>\n",
       "      <td>11867.110352</td>\n",
       "      <td>11675.530273</td>\n",
       "      <td>11782.349609</td>\n",
       "      <td>183190000</td>\n",
       "      <td>11782.349609</td>\n",
       "      <td>1</td>\n",
       "      <td>b'Why wont America and Nato help us? If they w...</td>\n",
       "      <td>b'Bush puts foot down on Georgian conflict'</td>\n",
       "      <td>...</td>\n",
       "      <td>b'\"Do not believe TV, neither Russian nor Geor...</td>\n",
       "      <td>b'Riots are still going on in Montreal (Canada...</td>\n",
       "      <td>b'China to overtake US as largest manufacturer'</td>\n",
       "      <td>b'War in South Ossetia [PICS]'</td>\n",
       "      <td>b'Israeli Physicians Group Condemns State Tort...</td>\n",
       "      <td>b' Russia has just beaten the United States ov...</td>\n",
       "      <td>b'Perhaps *the* question about the Georgia - R...</td>\n",
       "      <td>b'Russia is so much better at war'</td>\n",
       "      <td>b\"So this is what it's come to: trading sex fo...</td>\n",
       "      <td>b'why wont america and nato help us? if they w...</td>\n",
       "    </tr>\n",
       "    <tr>\n",
       "      <th>1986</th>\n",
       "      <td>2008-08-12</td>\n",
       "      <td>11781.700195</td>\n",
       "      <td>11782.349609</td>\n",
       "      <td>11601.519531</td>\n",
       "      <td>11642.469727</td>\n",
       "      <td>173590000</td>\n",
       "      <td>11642.469727</td>\n",
       "      <td>0</td>\n",
       "      <td>b'Remember that adorable 9-year-old who sang a...</td>\n",
       "      <td>b\"Russia 'ends Georgia operation'\"</td>\n",
       "      <td>...</td>\n",
       "      <td>b'Why Russias response to Georgia was right'</td>\n",
       "      <td>b'Gorbachev accuses U.S. of making a \"serious ...</td>\n",
       "      <td>b'Russia, Georgia, and NATO: Cold War Two'</td>\n",
       "      <td>b'Remember that adorable 62-year-old who led y...</td>\n",
       "      <td>b'War in Georgia: The Israeli connection'</td>\n",
       "      <td>b'All signs point to the US encouraging Georgi...</td>\n",
       "      <td>b'Christopher King argues that the US and NATO...</td>\n",
       "      <td>b'America: The New Mexico?'</td>\n",
       "      <td>b\"BBC NEWS | Asia-Pacific | Extinction 'by man...</td>\n",
       "      <td>b'remember that adorable 9-year-old who sang a...</td>\n",
       "    </tr>\n",
       "  </tbody>\n",
       "</table>\n",
       "<p>3 rows × 34 columns</p>\n",
       "</div>"
      ],
      "text/plain": [
       "            Date          Open          High           Low         Close  \\\n",
       "1988  2008-08-08  11432.089844  11759.959961  11388.040039  11734.320312   \n",
       "1987  2008-08-11  11729.669922  11867.110352  11675.530273  11782.349609   \n",
       "1986  2008-08-12  11781.700195  11782.349609  11601.519531  11642.469727   \n",
       "\n",
       "         Volume     Adj Close  Label  \\\n",
       "1988  212830000  11734.320312      0   \n",
       "1987  183190000  11782.349609      1   \n",
       "1986  173590000  11642.469727      0   \n",
       "\n",
       "                                                   Top1  \\\n",
       "1988  b\"Georgia 'downs two Russian warplanes' as cou...   \n",
       "1987  b'Why wont America and Nato help us? If they w...   \n",
       "1986  b'Remember that adorable 9-year-old who sang a...   \n",
       "\n",
       "                                             Top2  \\\n",
       "1988      b'BREAKING: Musharraf to be impeached.'   \n",
       "1987  b'Bush puts foot down on Georgian conflict'   \n",
       "1986           b\"Russia 'ends Georgia operation'\"   \n",
       "\n",
       "                            ...                          \\\n",
       "1988                        ...                           \n",
       "1987                        ...                           \n",
       "1986                        ...                           \n",
       "\n",
       "                                                  Top17  \\\n",
       "1988                b'Al-Qaeda Faces Islamist Backlash'   \n",
       "1987  b'\"Do not believe TV, neither Russian nor Geor...   \n",
       "1986       b'Why Russias response to Georgia was right'   \n",
       "\n",
       "                                                  Top18  \\\n",
       "1988  b'Condoleezza Rice: \"The US would not act to p...   \n",
       "1987  b'Riots are still going on in Montreal (Canada...   \n",
       "1986  b'Gorbachev accuses U.S. of making a \"serious ...   \n",
       "\n",
       "                                                  Top19  \\\n",
       "1988  b'This is a busy day:  The European Union has ...   \n",
       "1987    b'China to overtake US as largest manufacturer'   \n",
       "1986         b'Russia, Georgia, and NATO: Cold War Two'   \n",
       "\n",
       "                                                  Top20  \\\n",
       "1988  b\"Georgia will withdraw 1,000 soldiers from Ir...   \n",
       "1987                     b'War in South Ossetia [PICS]'   \n",
       "1986  b'Remember that adorable 62-year-old who led y...   \n",
       "\n",
       "                                                  Top21  \\\n",
       "1988  b'Why the Pentagon Thinks Attacking Iran is a ...   \n",
       "1987  b'Israeli Physicians Group Condemns State Tort...   \n",
       "1986          b'War in Georgia: The Israeli connection'   \n",
       "\n",
       "                                                  Top22  \\\n",
       "1988  b'Caucasus in crisis: Georgia invades South Os...   \n",
       "1987  b' Russia has just beaten the United States ov...   \n",
       "1986  b'All signs point to the US encouraging Georgi...   \n",
       "\n",
       "                                                  Top23  \\\n",
       "1988  b'Indian shoe manufactory  - And again in a se...   \n",
       "1987  b'Perhaps *the* question about the Georgia - R...   \n",
       "1986  b'Christopher King argues that the US and NATO...   \n",
       "\n",
       "                                                  Top24  \\\n",
       "1988  b'Visitors Suffering from Mental Illnesses Ban...   \n",
       "1987                 b'Russia is so much better at war'   \n",
       "1986                        b'America: The New Mexico?'   \n",
       "\n",
       "                                                  Top25  \\\n",
       "1988           b\"No Help for Mexico's Kidnapping Surge\"   \n",
       "1987  b\"So this is what it's come to: trading sex fo...   \n",
       "1986  b\"BBC NEWS | Asia-Pacific | Extinction 'by man...   \n",
       "\n",
       "                                                   news  \n",
       "1988  b\"georgia 'downs two russian warplanes' as cou...  \n",
       "1987  b'why wont america and nato help us? if they w...  \n",
       "1986  b'remember that adorable 9-year-old who sang a...  \n",
       "\n",
       "[3 rows x 34 columns]"
      ]
     },
     "execution_count": 6,
     "metadata": {},
     "output_type": "execute_result"
    }
   ],
   "source": [
    "master_df['news'] = news_array\n",
    "master_df.head(3)"
   ]
  },
  {
   "cell_type": "code",
   "execution_count": 7,
   "metadata": {
    "slideshow": {
     "slide_type": "skip"
    }
   },
   "outputs": [
    {
     "name": "stdout",
     "output_type": "stream",
     "text": [
      "b\"georgia 'downs two russian warplanes' as countries move to brink of war\" b'breaking: musharraf to be impeached.' b'russia today: columns of troops roll into south ossetia; footage from fighting (youtube)' b'russian tanks are moving towards the capital of south ossetia, which has reportedly been completely destroyed by georgian artillery fire' b\"afghan children raped with 'impunity,' u.n. officia\n",
      "----------\n",
      "b'why wont america and nato help us? if they wont help us now, why did we help them in iraq?' b'bush puts foot down on georgian conflict' b\"jewish georgian minister: thanks to israeli training, we're fending off russia \" b'georgian army flees in disarray as russians advance - gori abandoned to russia without a shot fired' b\"olympic opening ceremony fireworks 'faked'\" b'what were the mossad with fr\n"
     ]
    }
   ],
   "source": [
    "print master_df.loc[1988,'news'][:400]\n",
    "print '----------'\n",
    "print master_df.loc[1987,'news'][:400]"
   ]
  },
  {
   "cell_type": "code",
   "execution_count": 8,
   "metadata": {
    "collapsed": true,
    "slideshow": {
     "slide_type": "slide"
    }
   },
   "outputs": [],
   "source": [
    "# create second outcome variable: 'nextday_increase'\n",
    "master_df['nextday_adj_close'] = master_df['Adj Close'].shift(-1) "
   ]
  },
  {
   "cell_type": "code",
   "execution_count": 9,
   "metadata": {
    "slideshow": {
     "slide_type": "skip"
    }
   },
   "outputs": [
    {
     "name": "stdout",
     "output_type": "stream",
     "text": [
      "(1989, 35)\n"
     ]
    },
    {
     "data": {
      "text/html": [
       "<div>\n",
       "<style>\n",
       "    .dataframe thead tr:only-child th {\n",
       "        text-align: right;\n",
       "    }\n",
       "\n",
       "    .dataframe thead th {\n",
       "        text-align: left;\n",
       "    }\n",
       "\n",
       "    .dataframe tbody tr th {\n",
       "        vertical-align: top;\n",
       "    }\n",
       "</style>\n",
       "<table border=\"1\" class=\"dataframe\">\n",
       "  <thead>\n",
       "    <tr style=\"text-align: right;\">\n",
       "      <th></th>\n",
       "      <th>Date</th>\n",
       "      <th>Open</th>\n",
       "      <th>High</th>\n",
       "      <th>Low</th>\n",
       "      <th>Close</th>\n",
       "      <th>Volume</th>\n",
       "      <th>Adj Close</th>\n",
       "      <th>Label</th>\n",
       "      <th>Top1</th>\n",
       "      <th>Top2</th>\n",
       "      <th>...</th>\n",
       "      <th>Top18</th>\n",
       "      <th>Top19</th>\n",
       "      <th>Top20</th>\n",
       "      <th>Top21</th>\n",
       "      <th>Top22</th>\n",
       "      <th>Top23</th>\n",
       "      <th>Top24</th>\n",
       "      <th>Top25</th>\n",
       "      <th>news</th>\n",
       "      <th>nextday_adj_close</th>\n",
       "    </tr>\n",
       "  </thead>\n",
       "  <tbody>\n",
       "    <tr>\n",
       "      <th>2</th>\n",
       "      <td>2016-06-29</td>\n",
       "      <td>17456.019531</td>\n",
       "      <td>17704.509766</td>\n",
       "      <td>17456.019531</td>\n",
       "      <td>17694.679688</td>\n",
       "      <td>106380000</td>\n",
       "      <td>17694.679688</td>\n",
       "      <td>1</td>\n",
       "      <td>Explosion At Airport In Istanbul</td>\n",
       "      <td>Yemeni former president: Terrorism is the offs...</td>\n",
       "      <td>...</td>\n",
       "      <td>Car bomb and Anti-Islamic attack on Mosque in ...</td>\n",
       "      <td>Emaciated lions in Taiz Zoo are trapped in blo...</td>\n",
       "      <td>Rupert Murdoch describes Brexit as 'wonderful'...</td>\n",
       "      <td>More than 40 killed in Yemen suicide attacks</td>\n",
       "      <td>Google Found Disastrous Symantec and Norton Vu...</td>\n",
       "      <td>Extremist violence on the rise in Germany: Dom...</td>\n",
       "      <td>BBC News: Labour MPs pass Corbyn no-confidence...</td>\n",
       "      <td>Tiny New Zealand town with 'too many jobs' lau...</td>\n",
       "      <td>explosion at airport in istanbul yemeni former...</td>\n",
       "      <td>17929.990234</td>\n",
       "    </tr>\n",
       "    <tr>\n",
       "      <th>1</th>\n",
       "      <td>2016-06-30</td>\n",
       "      <td>17712.759766</td>\n",
       "      <td>17930.609375</td>\n",
       "      <td>17711.800781</td>\n",
       "      <td>17929.990234</td>\n",
       "      <td>133030000</td>\n",
       "      <td>17929.990234</td>\n",
       "      <td>1</td>\n",
       "      <td>Jamaica proposes marijuana dispensers for tour...</td>\n",
       "      <td>Stephen Hawking says pollution and 'stupidity'...</td>\n",
       "      <td>...</td>\n",
       "      <td>The men who carried out Tuesday's terror attac...</td>\n",
       "      <td>Calls to suspend Saudi Arabia from UN Human Ri...</td>\n",
       "      <td>More Than 100 Nobel Laureates Call Out Greenpe...</td>\n",
       "      <td>British pedophile sentenced to 85 years in US ...</td>\n",
       "      <td>US permitted 1,200 offshore fracks in Gulf of ...</td>\n",
       "      <td>We will be swimming in ridicule - French beach...</td>\n",
       "      <td>UEFA says no minutes of silence for Istanbul v...</td>\n",
       "      <td>Law Enforcement Sources: Gun Used in Paris Ter...</td>\n",
       "      <td>jamaica proposes marijuana dispensers for tour...</td>\n",
       "      <td>17949.369141</td>\n",
       "    </tr>\n",
       "    <tr>\n",
       "      <th>0</th>\n",
       "      <td>2016-07-01</td>\n",
       "      <td>17924.240234</td>\n",
       "      <td>18002.380859</td>\n",
       "      <td>17916.910156</td>\n",
       "      <td>17949.369141</td>\n",
       "      <td>82160000</td>\n",
       "      <td>17949.369141</td>\n",
       "      <td>1</td>\n",
       "      <td>A 117-year-old woman in Mexico City finally re...</td>\n",
       "      <td>IMF chief backs Athens as permanent Olympic host</td>\n",
       "      <td>...</td>\n",
       "      <td>India gets $1 billion loan from World Bank for...</td>\n",
       "      <td>U.S. sailors detained by Iran spoke too much u...</td>\n",
       "      <td>Mass fish kill in Vietnam solved as Taiwan ste...</td>\n",
       "      <td>Philippines president Rodrigo Duterte urges pe...</td>\n",
       "      <td>Spain arrests three Pakistanis accused of prom...</td>\n",
       "      <td>Venezuela, where anger over food shortages is ...</td>\n",
       "      <td>A Hindu temple worker has been killed by three...</td>\n",
       "      <td>Ozone layer hole seems to be healing - US &amp;amp...</td>\n",
       "      <td>a 117-year-old woman in mexico city finally re...</td>\n",
       "      <td>NaN</td>\n",
       "    </tr>\n",
       "  </tbody>\n",
       "</table>\n",
       "<p>3 rows × 35 columns</p>\n",
       "</div>"
      ],
      "text/plain": [
       "         Date          Open          High           Low         Close  \\\n",
       "2  2016-06-29  17456.019531  17704.509766  17456.019531  17694.679688   \n",
       "1  2016-06-30  17712.759766  17930.609375  17711.800781  17929.990234   \n",
       "0  2016-07-01  17924.240234  18002.380859  17916.910156  17949.369141   \n",
       "\n",
       "      Volume     Adj Close  Label  \\\n",
       "2  106380000  17694.679688      1   \n",
       "1  133030000  17929.990234      1   \n",
       "0   82160000  17949.369141      1   \n",
       "\n",
       "                                                Top1  \\\n",
       "2                   Explosion At Airport In Istanbul   \n",
       "1  Jamaica proposes marijuana dispensers for tour...   \n",
       "0  A 117-year-old woman in Mexico City finally re...   \n",
       "\n",
       "                                                Top2        ...         \\\n",
       "2  Yemeni former president: Terrorism is the offs...        ...          \n",
       "1  Stephen Hawking says pollution and 'stupidity'...        ...          \n",
       "0   IMF chief backs Athens as permanent Olympic host        ...          \n",
       "\n",
       "                                               Top18  \\\n",
       "2  Car bomb and Anti-Islamic attack on Mosque in ...   \n",
       "1  The men who carried out Tuesday's terror attac...   \n",
       "0  India gets $1 billion loan from World Bank for...   \n",
       "\n",
       "                                               Top19  \\\n",
       "2  Emaciated lions in Taiz Zoo are trapped in blo...   \n",
       "1  Calls to suspend Saudi Arabia from UN Human Ri...   \n",
       "0  U.S. sailors detained by Iran spoke too much u...   \n",
       "\n",
       "                                               Top20  \\\n",
       "2  Rupert Murdoch describes Brexit as 'wonderful'...   \n",
       "1  More Than 100 Nobel Laureates Call Out Greenpe...   \n",
       "0  Mass fish kill in Vietnam solved as Taiwan ste...   \n",
       "\n",
       "                                               Top21  \\\n",
       "2       More than 40 killed in Yemen suicide attacks   \n",
       "1  British pedophile sentenced to 85 years in US ...   \n",
       "0  Philippines president Rodrigo Duterte urges pe...   \n",
       "\n",
       "                                               Top22  \\\n",
       "2  Google Found Disastrous Symantec and Norton Vu...   \n",
       "1  US permitted 1,200 offshore fracks in Gulf of ...   \n",
       "0  Spain arrests three Pakistanis accused of prom...   \n",
       "\n",
       "                                               Top23  \\\n",
       "2  Extremist violence on the rise in Germany: Dom...   \n",
       "1  We will be swimming in ridicule - French beach...   \n",
       "0  Venezuela, where anger over food shortages is ...   \n",
       "\n",
       "                                               Top24  \\\n",
       "2  BBC News: Labour MPs pass Corbyn no-confidence...   \n",
       "1  UEFA says no minutes of silence for Istanbul v...   \n",
       "0  A Hindu temple worker has been killed by three...   \n",
       "\n",
       "                                               Top25  \\\n",
       "2  Tiny New Zealand town with 'too many jobs' lau...   \n",
       "1  Law Enforcement Sources: Gun Used in Paris Ter...   \n",
       "0  Ozone layer hole seems to be healing - US &amp...   \n",
       "\n",
       "                                                news nextday_adj_close  \n",
       "2  explosion at airport in istanbul yemeni former...      17929.990234  \n",
       "1  jamaica proposes marijuana dispensers for tour...      17949.369141  \n",
       "0  a 117-year-old woman in mexico city finally re...               NaN  \n",
       "\n",
       "[3 rows x 35 columns]"
      ]
     },
     "execution_count": 9,
     "metadata": {},
     "output_type": "execute_result"
    }
   ],
   "source": [
    "# see last value missing, must input\n",
    "print master_df.shape\n",
    "master_df.tail(3)"
   ]
  },
  {
   "cell_type": "code",
   "execution_count": 10,
   "metadata": {
    "collapsed": true,
    "slideshow": {
     "slide_type": "-"
    }
   },
   "outputs": [],
   "source": [
    "master_df.iloc[1988,34] = 17840.62\n"
   ]
  },
  {
   "cell_type": "code",
   "execution_count": 11,
   "metadata": {
    "slideshow": {
     "slide_type": "-"
    }
   },
   "outputs": [
    {
     "data": {
      "text/html": [
       "<div>\n",
       "<style>\n",
       "    .dataframe thead tr:only-child th {\n",
       "        text-align: right;\n",
       "    }\n",
       "\n",
       "    .dataframe thead th {\n",
       "        text-align: left;\n",
       "    }\n",
       "\n",
       "    .dataframe tbody tr th {\n",
       "        vertical-align: top;\n",
       "    }\n",
       "</style>\n",
       "<table border=\"1\" class=\"dataframe\">\n",
       "  <thead>\n",
       "    <tr style=\"text-align: right;\">\n",
       "      <th></th>\n",
       "      <th>Date</th>\n",
       "      <th>Open</th>\n",
       "      <th>High</th>\n",
       "      <th>Low</th>\n",
       "      <th>Close</th>\n",
       "      <th>Volume</th>\n",
       "      <th>Adj Close</th>\n",
       "      <th>Label</th>\n",
       "      <th>Top1</th>\n",
       "      <th>Top2</th>\n",
       "      <th>...</th>\n",
       "      <th>Top19</th>\n",
       "      <th>Top20</th>\n",
       "      <th>Top21</th>\n",
       "      <th>Top22</th>\n",
       "      <th>Top23</th>\n",
       "      <th>Top24</th>\n",
       "      <th>Top25</th>\n",
       "      <th>news</th>\n",
       "      <th>nextday_adj_close</th>\n",
       "      <th>nextday_change_in_close</th>\n",
       "    </tr>\n",
       "  </thead>\n",
       "  <tbody>\n",
       "    <tr>\n",
       "      <th>1988</th>\n",
       "      <td>2008-08-08</td>\n",
       "      <td>11432.089844</td>\n",
       "      <td>11759.959961</td>\n",
       "      <td>11388.040039</td>\n",
       "      <td>11734.320312</td>\n",
       "      <td>212830000</td>\n",
       "      <td>11734.320312</td>\n",
       "      <td>0</td>\n",
       "      <td>b\"Georgia 'downs two Russian warplanes' as cou...</td>\n",
       "      <td>b'BREAKING: Musharraf to be impeached.'</td>\n",
       "      <td>...</td>\n",
       "      <td>b'This is a busy day:  The European Union has ...</td>\n",
       "      <td>b\"Georgia will withdraw 1,000 soldiers from Ir...</td>\n",
       "      <td>b'Why the Pentagon Thinks Attacking Iran is a ...</td>\n",
       "      <td>b'Caucasus in crisis: Georgia invades South Os...</td>\n",
       "      <td>b'Indian shoe manufactory  - And again in a se...</td>\n",
       "      <td>b'Visitors Suffering from Mental Illnesses Ban...</td>\n",
       "      <td>b\"No Help for Mexico's Kidnapping Surge\"</td>\n",
       "      <td>b\"georgia 'downs two russian warplanes' as cou...</td>\n",
       "      <td>11782.349609</td>\n",
       "      <td>48.029297</td>\n",
       "    </tr>\n",
       "    <tr>\n",
       "      <th>1987</th>\n",
       "      <td>2008-08-11</td>\n",
       "      <td>11729.669922</td>\n",
       "      <td>11867.110352</td>\n",
       "      <td>11675.530273</td>\n",
       "      <td>11782.349609</td>\n",
       "      <td>183190000</td>\n",
       "      <td>11782.349609</td>\n",
       "      <td>1</td>\n",
       "      <td>b'Why wont America and Nato help us? If they w...</td>\n",
       "      <td>b'Bush puts foot down on Georgian conflict'</td>\n",
       "      <td>...</td>\n",
       "      <td>b'China to overtake US as largest manufacturer'</td>\n",
       "      <td>b'War in South Ossetia [PICS]'</td>\n",
       "      <td>b'Israeli Physicians Group Condemns State Tort...</td>\n",
       "      <td>b' Russia has just beaten the United States ov...</td>\n",
       "      <td>b'Perhaps *the* question about the Georgia - R...</td>\n",
       "      <td>b'Russia is so much better at war'</td>\n",
       "      <td>b\"So this is what it's come to: trading sex fo...</td>\n",
       "      <td>b'why wont america and nato help us? if they w...</td>\n",
       "      <td>11642.469727</td>\n",
       "      <td>-139.879882</td>\n",
       "    </tr>\n",
       "    <tr>\n",
       "      <th>1986</th>\n",
       "      <td>2008-08-12</td>\n",
       "      <td>11781.700195</td>\n",
       "      <td>11782.349609</td>\n",
       "      <td>11601.519531</td>\n",
       "      <td>11642.469727</td>\n",
       "      <td>173590000</td>\n",
       "      <td>11642.469727</td>\n",
       "      <td>0</td>\n",
       "      <td>b'Remember that adorable 9-year-old who sang a...</td>\n",
       "      <td>b\"Russia 'ends Georgia operation'\"</td>\n",
       "      <td>...</td>\n",
       "      <td>b'Russia, Georgia, and NATO: Cold War Two'</td>\n",
       "      <td>b'Remember that adorable 62-year-old who led y...</td>\n",
       "      <td>b'War in Georgia: The Israeli connection'</td>\n",
       "      <td>b'All signs point to the US encouraging Georgi...</td>\n",
       "      <td>b'Christopher King argues that the US and NATO...</td>\n",
       "      <td>b'America: The New Mexico?'</td>\n",
       "      <td>b\"BBC NEWS | Asia-Pacific | Extinction 'by man...</td>\n",
       "      <td>b'remember that adorable 9-year-old who sang a...</td>\n",
       "      <td>11532.959961</td>\n",
       "      <td>-109.509766</td>\n",
       "    </tr>\n",
       "  </tbody>\n",
       "</table>\n",
       "<p>3 rows × 36 columns</p>\n",
       "</div>"
      ],
      "text/plain": [
       "            Date          Open          High           Low         Close  \\\n",
       "1988  2008-08-08  11432.089844  11759.959961  11388.040039  11734.320312   \n",
       "1987  2008-08-11  11729.669922  11867.110352  11675.530273  11782.349609   \n",
       "1986  2008-08-12  11781.700195  11782.349609  11601.519531  11642.469727   \n",
       "\n",
       "         Volume     Adj Close  Label  \\\n",
       "1988  212830000  11734.320312      0   \n",
       "1987  183190000  11782.349609      1   \n",
       "1986  173590000  11642.469727      0   \n",
       "\n",
       "                                                   Top1  \\\n",
       "1988  b\"Georgia 'downs two Russian warplanes' as cou...   \n",
       "1987  b'Why wont America and Nato help us? If they w...   \n",
       "1986  b'Remember that adorable 9-year-old who sang a...   \n",
       "\n",
       "                                             Top2           ...            \\\n",
       "1988      b'BREAKING: Musharraf to be impeached.'           ...             \n",
       "1987  b'Bush puts foot down on Georgian conflict'           ...             \n",
       "1986           b\"Russia 'ends Georgia operation'\"           ...             \n",
       "\n",
       "                                                  Top19  \\\n",
       "1988  b'This is a busy day:  The European Union has ...   \n",
       "1987    b'China to overtake US as largest manufacturer'   \n",
       "1986         b'Russia, Georgia, and NATO: Cold War Two'   \n",
       "\n",
       "                                                  Top20  \\\n",
       "1988  b\"Georgia will withdraw 1,000 soldiers from Ir...   \n",
       "1987                     b'War in South Ossetia [PICS]'   \n",
       "1986  b'Remember that adorable 62-year-old who led y...   \n",
       "\n",
       "                                                  Top21  \\\n",
       "1988  b'Why the Pentagon Thinks Attacking Iran is a ...   \n",
       "1987  b'Israeli Physicians Group Condemns State Tort...   \n",
       "1986          b'War in Georgia: The Israeli connection'   \n",
       "\n",
       "                                                  Top22  \\\n",
       "1988  b'Caucasus in crisis: Georgia invades South Os...   \n",
       "1987  b' Russia has just beaten the United States ov...   \n",
       "1986  b'All signs point to the US encouraging Georgi...   \n",
       "\n",
       "                                                  Top23  \\\n",
       "1988  b'Indian shoe manufactory  - And again in a se...   \n",
       "1987  b'Perhaps *the* question about the Georgia - R...   \n",
       "1986  b'Christopher King argues that the US and NATO...   \n",
       "\n",
       "                                                  Top24  \\\n",
       "1988  b'Visitors Suffering from Mental Illnesses Ban...   \n",
       "1987                 b'Russia is so much better at war'   \n",
       "1986                        b'America: The New Mexico?'   \n",
       "\n",
       "                                                  Top25  \\\n",
       "1988           b\"No Help for Mexico's Kidnapping Surge\"   \n",
       "1987  b\"So this is what it's come to: trading sex fo...   \n",
       "1986  b\"BBC NEWS | Asia-Pacific | Extinction 'by man...   \n",
       "\n",
       "                                                   news nextday_adj_close  \\\n",
       "1988  b\"georgia 'downs two russian warplanes' as cou...      11782.349609   \n",
       "1987  b'why wont america and nato help us? if they w...      11642.469727   \n",
       "1986  b'remember that adorable 9-year-old who sang a...      11532.959961   \n",
       "\n",
       "     nextday_change_in_close  \n",
       "1988               48.029297  \n",
       "1987             -139.879882  \n",
       "1986             -109.509766  \n",
       "\n",
       "[3 rows x 36 columns]"
      ]
     },
     "execution_count": 11,
     "metadata": {},
     "output_type": "execute_result"
    }
   ],
   "source": [
    "master_df['nextday_change_in_close'] = master_df['nextday_adj_close'] - master_df['Adj Close']\n",
    "master_df.head(3)"
   ]
  },
  {
   "cell_type": "code",
   "execution_count": 12,
   "metadata": {
    "collapsed": true,
    "slideshow": {
     "slide_type": "slide"
    }
   },
   "outputs": [],
   "source": [
    "def create_price_increase_array(df_name, col_name):\n",
    "    change = df_name[col_name]\n",
    "    change_array = [] \n",
    "    for i in range(len(change)):\n",
    "        if change[i] > 0:\n",
    "            change_array.append(1)\n",
    "        else:\n",
    "            change_array.append(0)\n",
    "    return change_array\n",
    "\n",
    "increase_array = create_price_increase_array(master_df, 'nextday_change_in_close')\n",
    "master_df['nextday_increase'] = increase_array[::-1]"
   ]
  },
  {
   "cell_type": "code",
   "execution_count": 13,
   "metadata": {
    "slideshow": {
     "slide_type": "skip"
    }
   },
   "outputs": [
    {
     "data": {
      "text/html": [
       "<div>\n",
       "<style>\n",
       "    .dataframe thead tr:only-child th {\n",
       "        text-align: right;\n",
       "    }\n",
       "\n",
       "    .dataframe thead th {\n",
       "        text-align: left;\n",
       "    }\n",
       "\n",
       "    .dataframe tbody tr th {\n",
       "        vertical-align: top;\n",
       "    }\n",
       "</style>\n",
       "<table border=\"1\" class=\"dataframe\">\n",
       "  <thead>\n",
       "    <tr style=\"text-align: right;\">\n",
       "      <th></th>\n",
       "      <th>Date</th>\n",
       "      <th>Open</th>\n",
       "      <th>High</th>\n",
       "      <th>Low</th>\n",
       "      <th>Close</th>\n",
       "      <th>Volume</th>\n",
       "      <th>Adj Close</th>\n",
       "      <th>Label</th>\n",
       "      <th>Top1</th>\n",
       "      <th>Top2</th>\n",
       "      <th>...</th>\n",
       "      <th>Top20</th>\n",
       "      <th>Top21</th>\n",
       "      <th>Top22</th>\n",
       "      <th>Top23</th>\n",
       "      <th>Top24</th>\n",
       "      <th>Top25</th>\n",
       "      <th>news</th>\n",
       "      <th>nextday_adj_close</th>\n",
       "      <th>nextday_change_in_close</th>\n",
       "      <th>nextday_increase</th>\n",
       "    </tr>\n",
       "  </thead>\n",
       "  <tbody>\n",
       "    <tr>\n",
       "      <th>1988</th>\n",
       "      <td>2008-08-08</td>\n",
       "      <td>11432.089844</td>\n",
       "      <td>11759.959961</td>\n",
       "      <td>11388.040039</td>\n",
       "      <td>11734.320312</td>\n",
       "      <td>212830000</td>\n",
       "      <td>11734.320312</td>\n",
       "      <td>0</td>\n",
       "      <td>b\"Georgia 'downs two Russian warplanes' as cou...</td>\n",
       "      <td>b'BREAKING: Musharraf to be impeached.'</td>\n",
       "      <td>...</td>\n",
       "      <td>b\"Georgia will withdraw 1,000 soldiers from Ir...</td>\n",
       "      <td>b'Why the Pentagon Thinks Attacking Iran is a ...</td>\n",
       "      <td>b'Caucasus in crisis: Georgia invades South Os...</td>\n",
       "      <td>b'Indian shoe manufactory  - And again in a se...</td>\n",
       "      <td>b'Visitors Suffering from Mental Illnesses Ban...</td>\n",
       "      <td>b\"No Help for Mexico's Kidnapping Surge\"</td>\n",
       "      <td>b\"georgia 'downs two russian warplanes' as cou...</td>\n",
       "      <td>11782.349609</td>\n",
       "      <td>48.029297</td>\n",
       "      <td>1</td>\n",
       "    </tr>\n",
       "    <tr>\n",
       "      <th>1987</th>\n",
       "      <td>2008-08-11</td>\n",
       "      <td>11729.669922</td>\n",
       "      <td>11867.110352</td>\n",
       "      <td>11675.530273</td>\n",
       "      <td>11782.349609</td>\n",
       "      <td>183190000</td>\n",
       "      <td>11782.349609</td>\n",
       "      <td>1</td>\n",
       "      <td>b'Why wont America and Nato help us? If they w...</td>\n",
       "      <td>b'Bush puts foot down on Georgian conflict'</td>\n",
       "      <td>...</td>\n",
       "      <td>b'War in South Ossetia [PICS]'</td>\n",
       "      <td>b'Israeli Physicians Group Condemns State Tort...</td>\n",
       "      <td>b' Russia has just beaten the United States ov...</td>\n",
       "      <td>b'Perhaps *the* question about the Georgia - R...</td>\n",
       "      <td>b'Russia is so much better at war'</td>\n",
       "      <td>b\"So this is what it's come to: trading sex fo...</td>\n",
       "      <td>b'why wont america and nato help us? if they w...</td>\n",
       "      <td>11642.469727</td>\n",
       "      <td>-139.879882</td>\n",
       "      <td>0</td>\n",
       "    </tr>\n",
       "    <tr>\n",
       "      <th>1986</th>\n",
       "      <td>2008-08-12</td>\n",
       "      <td>11781.700195</td>\n",
       "      <td>11782.349609</td>\n",
       "      <td>11601.519531</td>\n",
       "      <td>11642.469727</td>\n",
       "      <td>173590000</td>\n",
       "      <td>11642.469727</td>\n",
       "      <td>0</td>\n",
       "      <td>b'Remember that adorable 9-year-old who sang a...</td>\n",
       "      <td>b\"Russia 'ends Georgia operation'\"</td>\n",
       "      <td>...</td>\n",
       "      <td>b'Remember that adorable 62-year-old who led y...</td>\n",
       "      <td>b'War in Georgia: The Israeli connection'</td>\n",
       "      <td>b'All signs point to the US encouraging Georgi...</td>\n",
       "      <td>b'Christopher King argues that the US and NATO...</td>\n",
       "      <td>b'America: The New Mexico?'</td>\n",
       "      <td>b\"BBC NEWS | Asia-Pacific | Extinction 'by man...</td>\n",
       "      <td>b'remember that adorable 9-year-old who sang a...</td>\n",
       "      <td>11532.959961</td>\n",
       "      <td>-109.509766</td>\n",
       "      <td>0</td>\n",
       "    </tr>\n",
       "  </tbody>\n",
       "</table>\n",
       "<p>3 rows × 37 columns</p>\n",
       "</div>"
      ],
      "text/plain": [
       "            Date          Open          High           Low         Close  \\\n",
       "1988  2008-08-08  11432.089844  11759.959961  11388.040039  11734.320312   \n",
       "1987  2008-08-11  11729.669922  11867.110352  11675.530273  11782.349609   \n",
       "1986  2008-08-12  11781.700195  11782.349609  11601.519531  11642.469727   \n",
       "\n",
       "         Volume     Adj Close  Label  \\\n",
       "1988  212830000  11734.320312      0   \n",
       "1987  183190000  11782.349609      1   \n",
       "1986  173590000  11642.469727      0   \n",
       "\n",
       "                                                   Top1  \\\n",
       "1988  b\"Georgia 'downs two Russian warplanes' as cou...   \n",
       "1987  b'Why wont America and Nato help us? If they w...   \n",
       "1986  b'Remember that adorable 9-year-old who sang a...   \n",
       "\n",
       "                                             Top2       ...         \\\n",
       "1988      b'BREAKING: Musharraf to be impeached.'       ...          \n",
       "1987  b'Bush puts foot down on Georgian conflict'       ...          \n",
       "1986           b\"Russia 'ends Georgia operation'\"       ...          \n",
       "\n",
       "                                                  Top20  \\\n",
       "1988  b\"Georgia will withdraw 1,000 soldiers from Ir...   \n",
       "1987                     b'War in South Ossetia [PICS]'   \n",
       "1986  b'Remember that adorable 62-year-old who led y...   \n",
       "\n",
       "                                                  Top21  \\\n",
       "1988  b'Why the Pentagon Thinks Attacking Iran is a ...   \n",
       "1987  b'Israeli Physicians Group Condemns State Tort...   \n",
       "1986          b'War in Georgia: The Israeli connection'   \n",
       "\n",
       "                                                  Top22  \\\n",
       "1988  b'Caucasus in crisis: Georgia invades South Os...   \n",
       "1987  b' Russia has just beaten the United States ov...   \n",
       "1986  b'All signs point to the US encouraging Georgi...   \n",
       "\n",
       "                                                  Top23  \\\n",
       "1988  b'Indian shoe manufactory  - And again in a se...   \n",
       "1987  b'Perhaps *the* question about the Georgia - R...   \n",
       "1986  b'Christopher King argues that the US and NATO...   \n",
       "\n",
       "                                                  Top24  \\\n",
       "1988  b'Visitors Suffering from Mental Illnesses Ban...   \n",
       "1987                 b'Russia is so much better at war'   \n",
       "1986                        b'America: The New Mexico?'   \n",
       "\n",
       "                                                  Top25  \\\n",
       "1988           b\"No Help for Mexico's Kidnapping Surge\"   \n",
       "1987  b\"So this is what it's come to: trading sex fo...   \n",
       "1986  b\"BBC NEWS | Asia-Pacific | Extinction 'by man...   \n",
       "\n",
       "                                                   news nextday_adj_close  \\\n",
       "1988  b\"georgia 'downs two russian warplanes' as cou...      11782.349609   \n",
       "1987  b'why wont america and nato help us? if they w...      11642.469727   \n",
       "1986  b'remember that adorable 9-year-old who sang a...      11532.959961   \n",
       "\n",
       "     nextday_change_in_close nextday_increase  \n",
       "1988               48.029297                1  \n",
       "1987             -139.879882                0  \n",
       "1986             -109.509766                0  \n",
       "\n",
       "[3 rows x 37 columns]"
      ]
     },
     "execution_count": 13,
     "metadata": {},
     "output_type": "execute_result"
    }
   ],
   "source": [
    "master_df.head(3)"
   ]
  },
  {
   "cell_type": "code",
   "execution_count": 14,
   "metadata": {
    "slideshow": {
     "slide_type": "-"
    }
   },
   "outputs": [
    {
     "data": {
      "text/html": [
       "<div>\n",
       "<style>\n",
       "    .dataframe thead tr:only-child th {\n",
       "        text-align: right;\n",
       "    }\n",
       "\n",
       "    .dataframe thead th {\n",
       "        text-align: left;\n",
       "    }\n",
       "\n",
       "    .dataframe tbody tr th {\n",
       "        vertical-align: top;\n",
       "    }\n",
       "</style>\n",
       "<table border=\"1\" class=\"dataframe\">\n",
       "  <thead>\n",
       "    <tr style=\"text-align: right;\">\n",
       "      <th></th>\n",
       "      <th>Date</th>\n",
       "      <th>Label</th>\n",
       "      <th>news</th>\n",
       "      <th>nextday_increase</th>\n",
       "    </tr>\n",
       "  </thead>\n",
       "  <tbody>\n",
       "    <tr>\n",
       "      <th>1988</th>\n",
       "      <td>2008-08-08</td>\n",
       "      <td>0</td>\n",
       "      <td>b\"georgia 'downs two russian warplanes' as cou...</td>\n",
       "      <td>1</td>\n",
       "    </tr>\n",
       "    <tr>\n",
       "      <th>1987</th>\n",
       "      <td>2008-08-11</td>\n",
       "      <td>1</td>\n",
       "      <td>b'why wont america and nato help us? if they w...</td>\n",
       "      <td>0</td>\n",
       "    </tr>\n",
       "    <tr>\n",
       "      <th>1986</th>\n",
       "      <td>2008-08-12</td>\n",
       "      <td>0</td>\n",
       "      <td>b'remember that adorable 9-year-old who sang a...</td>\n",
       "      <td>0</td>\n",
       "    </tr>\n",
       "  </tbody>\n",
       "</table>\n",
       "</div>"
      ],
      "text/plain": [
       "            Date  Label                                               news  \\\n",
       "1988  2008-08-08      0  b\"georgia 'downs two russian warplanes' as cou...   \n",
       "1987  2008-08-11      1  b'why wont america and nato help us? if they w...   \n",
       "1986  2008-08-12      0  b'remember that adorable 9-year-old who sang a...   \n",
       "\n",
       "      nextday_increase  \n",
       "1988                 1  \n",
       "1987                 0  \n",
       "1986                 0  "
      ]
     },
     "execution_count": 14,
     "metadata": {},
     "output_type": "execute_result"
    }
   ],
   "source": [
    "# trim columns for a cleaner working dataframe\n",
    "work_df = master_df.iloc[:,[0,7,33,36]]\n",
    "work_df.head(3)"
   ]
  },
  {
   "cell_type": "code",
   "execution_count": 15,
   "metadata": {
    "collapsed": true,
    "slideshow": {
     "slide_type": "slide"
    }
   },
   "outputs": [],
   "source": [
    "# train and test split\n",
    "# will go by date using approx 80-20 split\n",
    "# train will be prior to 2015, and test will be everything after\n",
    "train = work_df[work_df['Date'] < '2015-01-01']\n",
    "test = work_df[work_df['Date'] > '2014-12-31']"
   ]
  },
  {
   "cell_type": "code",
   "execution_count": 16,
   "metadata": {
    "slideshow": {
     "slide_type": "-"
    }
   },
   "outputs": [
    {
     "name": "stdout",
     "output_type": "stream",
     "text": [
      "(1611, 4)\n"
     ]
    },
    {
     "data": {
      "text/html": [
       "<div>\n",
       "<style>\n",
       "    .dataframe thead tr:only-child th {\n",
       "        text-align: right;\n",
       "    }\n",
       "\n",
       "    .dataframe thead th {\n",
       "        text-align: left;\n",
       "    }\n",
       "\n",
       "    .dataframe tbody tr th {\n",
       "        vertical-align: top;\n",
       "    }\n",
       "</style>\n",
       "<table border=\"1\" class=\"dataframe\">\n",
       "  <thead>\n",
       "    <tr style=\"text-align: right;\">\n",
       "      <th></th>\n",
       "      <th>Date</th>\n",
       "      <th>Label</th>\n",
       "      <th>news</th>\n",
       "      <th>nextday_increase</th>\n",
       "    </tr>\n",
       "  </thead>\n",
       "  <tbody>\n",
       "    <tr>\n",
       "      <th>380</th>\n",
       "      <td>2014-12-29</td>\n",
       "      <td>0</td>\n",
       "      <td>solar power storage prices drop 25% in germany...</td>\n",
       "      <td>0</td>\n",
       "    </tr>\n",
       "    <tr>\n",
       "      <th>379</th>\n",
       "      <td>2014-12-30</td>\n",
       "      <td>0</td>\n",
       "      <td>china businessman jailed for 13 years for buyi...</td>\n",
       "      <td>0</td>\n",
       "    </tr>\n",
       "    <tr>\n",
       "      <th>378</th>\n",
       "      <td>2014-12-31</td>\n",
       "      <td>0</td>\n",
       "      <td>airasia flight found at the bottom of the java...</td>\n",
       "      <td>1</td>\n",
       "    </tr>\n",
       "  </tbody>\n",
       "</table>\n",
       "</div>"
      ],
      "text/plain": [
       "           Date  Label                                               news  \\\n",
       "380  2014-12-29      0  solar power storage prices drop 25% in germany...   \n",
       "379  2014-12-30      0  china businessman jailed for 13 years for buyi...   \n",
       "378  2014-12-31      0  airasia flight found at the bottom of the java...   \n",
       "\n",
       "     nextday_increase  \n",
       "380                 0  \n",
       "379                 0  \n",
       "378                 1  "
      ]
     },
     "execution_count": 16,
     "metadata": {},
     "output_type": "execute_result"
    }
   ],
   "source": [
    "print train.shape\n",
    "train.tail(3)"
   ]
  },
  {
   "cell_type": "code",
   "execution_count": 17,
   "metadata": {
    "slideshow": {
     "slide_type": "-"
    }
   },
   "outputs": [
    {
     "name": "stdout",
     "output_type": "stream",
     "text": [
      "(378, 4)\n"
     ]
    },
    {
     "data": {
      "text/html": [
       "<div>\n",
       "<style>\n",
       "    .dataframe thead tr:only-child th {\n",
       "        text-align: right;\n",
       "    }\n",
       "\n",
       "    .dataframe thead th {\n",
       "        text-align: left;\n",
       "    }\n",
       "\n",
       "    .dataframe tbody tr th {\n",
       "        vertical-align: top;\n",
       "    }\n",
       "</style>\n",
       "<table border=\"1\" class=\"dataframe\">\n",
       "  <thead>\n",
       "    <tr style=\"text-align: right;\">\n",
       "      <th></th>\n",
       "      <th>Date</th>\n",
       "      <th>Label</th>\n",
       "      <th>news</th>\n",
       "      <th>nextday_increase</th>\n",
       "    </tr>\n",
       "  </thead>\n",
       "  <tbody>\n",
       "    <tr>\n",
       "      <th>377</th>\n",
       "      <td>2015-01-02</td>\n",
       "      <td>1</td>\n",
       "      <td>most cases of cancer are the result of sheer b...</td>\n",
       "      <td>0</td>\n",
       "    </tr>\n",
       "    <tr>\n",
       "      <th>376</th>\n",
       "      <td>2015-01-05</td>\n",
       "      <td>0</td>\n",
       "      <td>moscow-&amp;gt;beijing high speed train will reduc...</td>\n",
       "      <td>0</td>\n",
       "    </tr>\n",
       "    <tr>\n",
       "      <th>375</th>\n",
       "      <td>2015-01-06</td>\n",
       "      <td>0</td>\n",
       "      <td>us oil falls below $50 a barrel toyota gives a...</td>\n",
       "      <td>1</td>\n",
       "    </tr>\n",
       "  </tbody>\n",
       "</table>\n",
       "</div>"
      ],
      "text/plain": [
       "           Date  Label                                               news  \\\n",
       "377  2015-01-02      1  most cases of cancer are the result of sheer b...   \n",
       "376  2015-01-05      0  moscow-&gt;beijing high speed train will reduc...   \n",
       "375  2015-01-06      0  us oil falls below $50 a barrel toyota gives a...   \n",
       "\n",
       "     nextday_increase  \n",
       "377                 0  \n",
       "376                 0  \n",
       "375                 1  "
      ]
     },
     "execution_count": 17,
     "metadata": {},
     "output_type": "execute_result"
    }
   ],
   "source": [
    "print test.shape\n",
    "test.head(3)"
   ]
  },
  {
   "cell_type": "markdown",
   "metadata": {
    "slideshow": {
     "slide_type": "slide"
    }
   },
   "source": [
    "<h2> EDA </h2>"
   ]
  },
  {
   "cell_type": "code",
   "execution_count": 18,
   "metadata": {
    "collapsed": true,
    "slideshow": {
     "slide_type": "slide"
    }
   },
   "outputs": [],
   "source": [
    "def str_array_to_string(array):\n",
    "    string = ''\n",
    "    for i in range(len(array)):\n",
    "        string +=  str(array[i])\n",
    "    return string\n",
    "\n",
    "# train_as_string = str_array_to_string(np.array(train.news))\n",
    "# test_as_string = str_array_to_string(np.array(test['news']))\n"
   ]
  },
  {
   "cell_type": "code",
   "execution_count": 19,
   "metadata": {
    "collapsed": true,
    "slideshow": {
     "slide_type": "slide"
    }
   },
   "outputs": [],
   "source": [
    "# from wordcloud import WordCloud\n",
    "# wordcloud_train = WordCloud(background_color='black',\n",
    "#                                   width=6000,\n",
    "#                                   height=5000,\n",
    "#                                   ).generate(train_as_string)"
   ]
  },
  {
   "cell_type": "code",
   "execution_count": 20,
   "metadata": {
    "slideshow": {
     "slide_type": "-"
    }
   },
   "outputs": [],
   "source": [
    "# plt.figure(1,figsize=(8,8))\n",
    "# plt.imshow(wordcloud_train)\n",
    "# plt.axis('off')\n",
    "# plt.title('Train - WordCloud')\n",
    "# plt.show()"
   ]
  },
  {
   "cell_type": "code",
   "execution_count": 21,
   "metadata": {
    "slideshow": {
     "slide_type": "-"
    }
   },
   "outputs": [],
   "source": [
    "# wordcloud_test = WordCloud(background_color='white',\n",
    "#                                   width=6000,\n",
    "#                                   height=5000,\n",
    "#                                   ).generate(test_as_string)\n",
    "# plt.figure(1,figsize=(8,8))\n",
    "# plt.imshow(wordcloud_test)\n",
    "# plt.axis('off')\n",
    "# plt.title('Test - WordCloud')\n",
    "# plt.show()"
   ]
  },
  {
   "cell_type": "markdown",
   "metadata": {
    "slideshow": {
     "slide_type": "-"
    }
   },
   "source": [
    "Train and test wordclouds look similar. <br>\n",
    "News topics clearly change over time, so this is promising in that using past news headlines could be useful in predicting future changes in the Dow"
   ]
  },
  {
   "cell_type": "code",
   "execution_count": 22,
   "metadata": {
    "collapsed": true,
    "slideshow": {
     "slide_type": "slide"
    }
   },
   "outputs": [],
   "source": [
    "# now will check wordclouds for increase and decrease day's and for nextday's \n",
    "# increase_day = train[train['Label']==1]\n",
    "# decrease_day = train[train['Label']==0]\n",
    "\n",
    "# increase_nextday = train[train['nextday_increase']==1]\n",
    "# decrease_nextday = train[train['nextday_increase']==0]\n",
    "\n",
    "# increase_nextday.head(3)"
   ]
  },
  {
   "cell_type": "code",
   "execution_count": 23,
   "metadata": {
    "collapsed": true,
    "slideshow": {
     "slide_type": "-"
    }
   },
   "outputs": [],
   "source": [
    "# increase_day_as_string = str_array_to_string(np.array(increase_day.news))\n",
    "# decrease_day_as_string = str_array_to_string(np.array(decrease_day.news))\n",
    "\n",
    "# increase_nextday_as_string = str_array_to_string(np.array(increase_nextday.news))\n",
    "# decrease_nextday_as_string = str_array_to_string(np.array(decrease_nextday.news))"
   ]
  },
  {
   "cell_type": "code",
   "execution_count": 24,
   "metadata": {
    "slideshow": {
     "slide_type": "slide"
    }
   },
   "outputs": [],
   "source": [
    "# wordcloud_increase_day = WordCloud(background_color='black',\n",
    "#                                   width=6000,\n",
    "#                                   height=5000,\n",
    "#                                   ).generate(increase_day_as_string)\n",
    "# plt.figure(1,figsize=(8,8))\n",
    "# plt.imshow(wordcloud_increase_day)\n",
    "# plt.axis('off')\n",
    "# plt.title('Days where Open to Close Increased')\n",
    "# plt.show()"
   ]
  },
  {
   "cell_type": "code",
   "execution_count": 25,
   "metadata": {
    "slideshow": {
     "slide_type": "-"
    }
   },
   "outputs": [],
   "source": [
    "# wordcloud_decrease_day = WordCloud(background_color='white',\n",
    "#                                   width=6000,\n",
    "#                                   height=5000,\n",
    "#                                   ).generate(decrease_day_as_string)\n",
    "# plt.figure(1,figsize=(8,8))\n",
    "# plt.imshow(wordcloud_decrease_day)\n",
    "# plt.axis('off')\n",
    "# plt.title('Days where Open to Close Decreased')\n",
    "# plt.show()"
   ]
  },
  {
   "cell_type": "code",
   "execution_count": 26,
   "metadata": {
    "slideshow": {
     "slide_type": "slide"
    }
   },
   "outputs": [],
   "source": [
    "# wordcloud_increase_nextday = WordCloud(background_color='black',\n",
    "#                                   width=6000,\n",
    "#                                   height=5000,\n",
    "#                                   ).generate(increase_nextday_as_string)\n",
    "# plt.figure(1,figsize=(8,8))\n",
    "# plt.imshow(wordcloud_increase_nextday)\n",
    "# plt.axis('off')\n",
    "# plt.title('Next Day Increase')\n",
    "# plt.show()"
   ]
  },
  {
   "cell_type": "code",
   "execution_count": 27,
   "metadata": {
    "slideshow": {
     "slide_type": "-"
    }
   },
   "outputs": [],
   "source": [
    "# wordcloud_decrease_nextday = WordCloud(background_color='white',\n",
    "#                                   width=6000,\n",
    "#                                   height=5000,\n",
    "#                                   ).generate(decrease_nextday_as_string)\n",
    "# plt.figure(1,figsize=(8,8))\n",
    "# plt.imshow(wordcloud_decrease_nextday)\n",
    "# plt.axis('off')\n",
    "# plt.title('Next Day Decrease')\n",
    "# plt.show()"
   ]
  },
  {
   "cell_type": "markdown",
   "metadata": {
    "slideshow": {
     "slide_type": "-"
    }
   },
   "source": [
    "These wordclouds all look very similar <br>\n",
    "This is not promising, as I was hoping there would be some noticable difference between common words on days where the Dow increased vs decreased"
   ]
  },
  {
   "cell_type": "markdown",
   "metadata": {
    "slideshow": {
     "slide_type": "slide"
    }
   },
   "source": [
    "<h2> Feature Creation </h2>"
   ]
  },
  {
   "cell_type": "code",
   "execution_count": 28,
   "metadata": {
    "collapsed": true,
    "slideshow": {
     "slide_type": "-"
    }
   },
   "outputs": [],
   "source": [
    "from sklearn.feature_extraction.text import CountVectorizer\n",
    "from sklearn.feature_extraction.text import TfidfVectorizer"
   ]
  },
  {
   "cell_type": "code",
   "execution_count": 29,
   "metadata": {
    "collapsed": true,
    "slideshow": {
     "slide_type": "-"
    }
   },
   "outputs": [],
   "source": [
    "count_vect = CountVectorizer(stop_words='english')\n",
    "tfidf_vect = TfidfVectorizer()\n",
    "tfidf_vect2 = TfidfVectorizer( min_df=0.03, max_df=0.97, max_features = 200000, ngram_range = (2, 2))"
   ]
  },
  {
   "cell_type": "code",
   "execution_count": 30,
   "metadata": {
    "slideshow": {
     "slide_type": "-"
    }
   },
   "outputs": [
    {
     "name": "stdout",
     "output_type": "stream",
     "text": [
      "Count Shape:  (1611, 30829)\n",
      "tfidf shape:  (1611, 31122)\n",
      "tfidf2 shape:  (1611, 625)\n"
     ]
    }
   ],
   "source": [
    "X_train_count = count_vect.fit_transform(train.news)\n",
    "X_test_count = count_vect.transform(test.news)\n",
    "print 'Count Shape: ', X_train_count.shape\n",
    "\n",
    "X_train_tfidf = tfidf_vect.fit_transform(train.news)\n",
    "X_test_tfidf = tfidf_vect.transform(test.news)\n",
    "print 'tfidf shape: ', X_train_tfidf.shape\n",
    "\n",
    "X_train_tfidf2 = tfidf_vect2.fit_transform(train.news)\n",
    "X_test_tfidf2 = tfidf_vect2.transform(test.news)\n",
    "print 'tfidf2 shape: ', X_train_tfidf2.shape"
   ]
  },
  {
   "cell_type": "code",
   "execution_count": null,
   "metadata": {
    "collapsed": true,
    "slideshow": {
     "slide_type": "skip"
    }
   },
   "outputs": [],
   "source": []
  },
  {
   "cell_type": "code",
   "execution_count": 31,
   "metadata": {
    "collapsed": true,
    "slideshow": {
     "slide_type": "-"
    }
   },
   "outputs": [],
   "source": [
    "y_train_label =  train.Label # Open to Close price change\n",
    "y_test_label = test.Label\n",
    "\n",
    "y_train_nextday = train.nextday_increase # Close from one day to the next price change\n",
    "y_test_nextday = test.nextday_increase"
   ]
  },
  {
   "cell_type": "markdown",
   "metadata": {
    "slideshow": {
     "slide_type": "slide"
    }
   },
   "source": [
    "<h2> Model Creation </h2>"
   ]
  },
  {
   "cell_type": "code",
   "execution_count": 32,
   "metadata": {
    "collapsed": true,
    "slideshow": {
     "slide_type": "-"
    }
   },
   "outputs": [],
   "source": [
    "from sklearn.linear_model import LogisticRegression\n",
    "from sklearn.naive_bayes import MultinomialNB\n",
    "from sklearn.metrics import accuracy_score\n",
    "from sklearn.metrics import roc_auc_score\n",
    "from sklearn.metrics import roc_curve\n"
   ]
  },
  {
   "cell_type": "code",
   "execution_count": 33,
   "metadata": {
    "collapsed": true,
    "slideshow": {
     "slide_type": "slide"
    }
   },
   "outputs": [],
   "source": [
    "# Logistic Regression\n",
    "def run_logreg(X_train, X_test, y_train,y_test, vect_type, outcome_var):\n",
    "    logreg = LogisticRegression()\n",
    "    logreg = logreg.fit(X_train, y_train)\n",
    "\n",
    "    y_pred_logreg = logreg.predict(X_test)\n",
    "    prob_logreg = logreg.predict_proba(X_test)[:,1]\n",
    "    accuracy_logreg = accuracy_score(y_pred_logreg, y_test)\n",
    "\n",
    "    #logreg accuracy and roc curve:\n",
    "    print 'Logistic Regression'\n",
    "    print 'Vectorizer:', vect_type\n",
    "    print 'Outcome Variable:', outcome_var\n",
    "    print 'accuracy score is: ' + str(accuracy_logreg)\n",
    "    print 'Roc/Auc Score is: ', roc_auc_score(y_test,y_pred_logreg)\n",
    "    fpr, tpr, _ = roc_curve(y_test, prob_logreg)\n",
    "\n",
    "    plt.plot(fpr,tpr)\n",
    "    plt.xlabel('false positive rate')\n",
    "    plt.ylabel('true positive rate')\n",
    "    plt.show()"
   ]
  },
  {
   "cell_type": "code",
   "execution_count": 34,
   "metadata": {
    "collapsed": true,
    "slideshow": {
     "slide_type": "-"
    }
   },
   "outputs": [],
   "source": [
    "def run_multiNB(X_train, X_test, y_train, y_test, vect_type, outcome_var):\n",
    "    X_train = X_train.toarray()\n",
    "    X_test = X_test.toarray()\n",
    "    \n",
    "    multiNB = MultinomialNB()\n",
    "    multiNB = multiNB.fit(X_train, y_train)\n",
    "    \n",
    "    y_pred_multi = multiNB.predict(X_test)\n",
    "    prob_multi = multiNB.predict_proba(X_test)[:,1]\n",
    "    accuracy_multi = accuracy_score(y_pred_multi, y_test)\n",
    "    \n",
    "    print 'Multinomial Naive Bayes'\n",
    "    print 'Vectorizer:', vect_type\n",
    "    print 'Outcome Variable:', outcome_var\n",
    "    print 'Accuracy score is: ' + str(accuracy_multi)\n",
    "    print 'Roc/Auc Score is: ', roc_auc_score(y_test,y_pred_multi)\n",
    "    fpr, tpr, _ = roc_curve(y_test, prob_multi) \n",
    "    \n",
    "    plt.plot(fpr,tpr)\n",
    "    plt.xlabel('false positive rate')\n",
    "    plt.ylabel('true positive rate')\n",
    "    plt.show()"
   ]
  },
  {
   "cell_type": "markdown",
   "metadata": {},
   "source": [
    "<h5> Models predicting if tomorrow's close will increase or decrease </h5>"
   ]
  },
  {
   "cell_type": "code",
   "execution_count": 35,
   "metadata": {
    "slideshow": {
     "slide_type": "slide"
    }
   },
   "outputs": [
    {
     "name": "stdout",
     "output_type": "stream",
     "text": [
      "Logistic Regression\n",
      "Vectorizer: Count\n",
      "Outcome Variable: Next Day\n",
      "accuracy score is: 0.494708994709\n",
      "Roc/Auc Score is:  0.493896463869\n"
     ]
    },
    {
     "data": {
      "image/png": "[encoded data removed]",
      "text/plain": [
       "<matplotlib.figure.Figure at 0x11fddfcd0>"
      ]
     },
     "metadata": {},
     "output_type": "display_data"
    }
   ],
   "source": [
    "run_logreg(X_train_count, X_test_count, y_train_nextday, y_test_nextday, 'Count', 'Next Day')"
   ]
  },
  {
   "cell_type": "markdown",
   "metadata": {
    "slideshow": {
     "slide_type": "slide"
    }
   },
   "source": [
    "<h3> Models predicting Daily change from Open to Close </h3>"
   ]
  },
  {
   "cell_type": "code",
   "execution_count": 36,
   "metadata": {
    "slideshow": {
     "slide_type": "slide"
    }
   },
   "outputs": [
    {
     "name": "stdout",
     "output_type": "stream",
     "text": [
      "Logistic Regression\n",
      "Vectorizer: tfidf\n",
      "Outcome Variable: Next Day\n",
      "accuracy score is: 0.484126984127\n",
      "Roc/Auc Score is:  0.480009519277\n"
     ]
    },
    {
     "data": {
      "image/png": "[encoded data removed]",
      "text/plain": [
       "<matplotlib.figure.Figure at 0x11b7ff590>"
      ]
     },
     "metadata": {},
     "output_type": "display_data"
    }
   ],
   "source": [
    "run_logreg(X_train_tfidf, X_test_tfidf, y_train_nextday, y_test_nextday, 'tfidf', 'Next Day')"
   ]
  },
  {
   "cell_type": "code",
   "execution_count": 37,
   "metadata": {
    "slideshow": {
     "slide_type": "slide"
    }
   },
   "outputs": [
    {
     "name": "stdout",
     "output_type": "stream",
     "text": [
      "Logistic Regression\n",
      "Vectorizer: tfidf - 2\n",
      "Outcome Variable: Next Day\n",
      "accuracy score is: 0.505291005291\n",
      "Roc/Auc Score is:  0.503079765938\n"
     ]
    },
    {
     "data": {
      "image/png": "[encoded data removed]",
      "text/plain": [
       "<matplotlib.figure.Figure at 0x11ba0dd50>"
      ]
     },
     "metadata": {},
     "output_type": "display_data"
    }
   ],
   "source": [
    "run_logreg(X_train_tfidf2, X_test_tfidf2, y_train_nextday, y_test_nextday, 'tfidf - 2', 'Next Day')"
   ]
  },
  {
   "cell_type": "code",
   "execution_count": 38,
   "metadata": {
    "slideshow": {
     "slide_type": "slide"
    }
   },
   "outputs": [
    {
     "name": "stdout",
     "output_type": "stream",
     "text": [
      "Multinomial Naive Bayes\n",
      "Vectorizer: Count\n",
      "Outcome Variable: Next Day\n",
      "Accuracy score is: 0.505291005291\n",
      "Roc/Auc Score is:  0.50285578296\n"
     ]
    },
    {
     "data": {
      "image/png": "[encoded data removed]",
      "text/plain": [
       "<matplotlib.figure.Figure at 0x11b814c90>"
      ]
     },
     "metadata": {},
     "output_type": "display_data"
    }
   ],
   "source": [
    "run_multiNB(X_train_count, X_test_count, y_train_nextday, y_test_nextday, 'Count', 'Next Day')"
   ]
  },
  {
   "cell_type": "code",
   "execution_count": 39,
   "metadata": {
    "slideshow": {
     "slide_type": "slide"
    }
   },
   "outputs": [
    {
     "name": "stdout",
     "output_type": "stream",
     "text": [
      "Multinomial Naive Bayes\n",
      "Vectorizer: tfidf\n",
      "Outcome Variable: Next Day\n",
      "Accuracy score is: 0.505291005291\n",
      "Roc/Auc Score is:  0.5\n"
     ]
    },
    {
     "data": {
      "image/png": "[encoded data removed]",
      "text/plain": [
       "<matplotlib.figure.Figure at 0x11ba0da90>"
      ]
     },
     "metadata": {},
     "output_type": "display_data"
    }
   ],
   "source": [
    "run_multiNB(X_train_tfidf, X_test_tfidf, y_train_nextday, y_test_nextday, 'tfidf', 'Next Day')"
   ]
  },
  {
   "cell_type": "code",
   "execution_count": 40,
   "metadata": {
    "slideshow": {
     "slide_type": "slide"
    }
   },
   "outputs": [
    {
     "name": "stdout",
     "output_type": "stream",
     "text": [
      "Multinomial Naive Bayes\n",
      "Vectorizer: tfidf - 2\n",
      "Outcome Variable: Next Day\n",
      "Accuracy score is: 0.507936507937\n",
      "Roc/Auc Score is:  0.503737715934\n"
     ]
    },
    {
     "data": {
      "image/png": "[encoded data removed]",
      "text/plain": [
       "<matplotlib.figure.Figure at 0x11ba68590>"
      ]
     },
     "metadata": {},
     "output_type": "display_data"
    }
   ],
   "source": [
    "run_multiNB(X_train_tfidf2, X_test_tfidf2, y_train_nextday, y_test_nextday, 'tfidf - 2', 'Next Day')"
   ]
  },
  {
   "cell_type": "code",
   "execution_count": 54,
   "metadata": {},
   "outputs": [],
   "source": [
    "y_test_labelb = []\n",
    "for val in y_test_label:\n",
    "    if val == 0:\n",
    "        y_test_labelb.append(1)\n",
    "    else:\n",
    "        y_test_labelb.append(0)\n",
    "    \n",
    "y_train_labelb = []\n",
    "for val in y_train_label:\n",
    "    if val == 0:\n",
    "        y_train_labelb.append(1)\n",
    "    else:\n",
    "        y_train_labelb.append(0)"
   ]
  },
  {
   "cell_type": "code",
   "execution_count": 57,
   "metadata": {
    "slideshow": {
     "slide_type": "slide"
    }
   },
   "outputs": [
    {
     "name": "stdout",
     "output_type": "stream",
     "text": [
      "Logistic Regression\n",
      "Vectorizer: Count\n",
      "Outcome Variable: Label (Open to Close)\n",
      "accuracy score is: 0.417989417989\n",
      "Roc/Auc Score is:  0.417254704301\n"
     ]
    },
    {
     "data": {
      "image/png": "[encoded data removed]",
      "text/plain": [
       "<matplotlib.figure.Figure at 0x11b951950>"
      ]
     },
     "metadata": {},
     "output_type": "display_data"
    }
   ],
   "source": [
    "run_logreg(X_train_count, X_test_count, y_train_label, y_test_label, 'Count', 'Label (Open to Close)')\n",
    "\n"
   ]
  },
  {
   "cell_type": "code",
   "execution_count": 43,
   "metadata": {
    "slideshow": {
     "slide_type": "slide"
    }
   },
   "outputs": [
    {
     "name": "stdout",
     "output_type": "stream",
     "text": [
      "Logistic Regression\n",
      "Vectorizer: tfidf\n",
      "Outcome Variable: Label (Open to Close)\n",
      "accuracy score is: 0.489417989418\n",
      "Roc/Auc Score is:  0.482442876344\n"
     ]
    },
    {
     "data": {
      "image/png": "[encoded data removed]",
      "text/plain": [
       "<matplotlib.figure.Figure at 0x11b809f90>"
      ]
     },
     "metadata": {},
     "output_type": "display_data"
    }
   ],
   "source": [
    "run_logreg(X_train_tfidf, X_test_tfidf, y_train_label, y_test_label, 'tfidf', 'Label (Open to Close)')"
   ]
  },
  {
   "cell_type": "code",
   "execution_count": 44,
   "metadata": {
    "slideshow": {
     "slide_type": "slide"
    }
   },
   "outputs": [
    {
     "name": "stdout",
     "output_type": "stream",
     "text": [
      "Logistic Regression\n",
      "Vectorizer: tfidf - 2\n",
      "Outcome Variable: Label (Open to Close)\n",
      "accuracy score is: 0.560846560847\n",
      "Roc/Auc Score is:  0.558299731183\n"
     ]
    },
    {
     "data": {
      "image/png": "[encoded data removed]",
      "text/plain": [
       "<matplotlib.figure.Figure at 0x11bca0750>"
      ]
     },
     "metadata": {},
     "output_type": "display_data"
    }
   ],
   "source": [
    "run_logreg(X_train_tfidf2, X_test_tfidf2, y_train_label, y_test_label, 'tfidf - 2', 'Label (Open to Close)')"
   ]
  },
  {
   "cell_type": "code",
   "execution_count": 45,
   "metadata": {
    "slideshow": {
     "slide_type": "slide"
    }
   },
   "outputs": [
    {
     "name": "stdout",
     "output_type": "stream",
     "text": [
      "Multinomial Naive Bayes\n",
      "Vectorizer: Count\n",
      "Outcome Variable: Label (Open to Close)\n",
      "Accuracy score is: 0.492063492063\n",
      "Roc/Auc Score is:  0.488575268817\n"
     ]
    },
    {
     "data": {
      "image/png": "[encoded data removed]",
      "text/plain": [
       "<matplotlib.figure.Figure at 0x1192362d0>"
      ]
     },
     "metadata": {},
     "output_type": "display_data"
    }
   ],
   "source": [
    "run_multiNB(X_train_count, X_test_count, y_train_label, y_test_label, 'Count', 'Label (Open to Close)')"
   ]
  },
  {
   "cell_type": "code",
   "execution_count": 46,
   "metadata": {
    "slideshow": {
     "slide_type": "slide"
    }
   },
   "outputs": [
    {
     "name": "stdout",
     "output_type": "stream",
     "text": [
      "Multinomial Naive Bayes\n",
      "Vectorizer: tfidf\n",
      "Outcome Variable: Label (Open to Close)\n",
      "Accuracy score is: 0.507936507937\n",
      "Roc/Auc Score is:  0.5\n"
     ]
    },
    {
     "data": {
      "image/png": "[encoded data removed]",
      "text/plain": [
       "<matplotlib.figure.Figure at 0x11a81eb90>"
      ]
     },
     "metadata": {},
     "output_type": "display_data"
    }
   ],
   "source": [
    "run_multiNB(X_train_tfidf, X_test_tfidf, y_train_label, y_test_label, 'tfidf', 'Label (Open to Close)')"
   ]
  },
  {
   "cell_type": "code",
   "execution_count": 47,
   "metadata": {
    "slideshow": {
     "slide_type": "slide"
    }
   },
   "outputs": [
    {
     "name": "stdout",
     "output_type": "stream",
     "text": [
      "Multinomial Naive Bayes\n",
      "Vectorizer: tfidf - 2\n",
      "Outcome Variable: Label (Open to Close)\n",
      "Accuracy score is: 0.550264550265\n",
      "Roc/Auc Score is:  0.544858870968\n"
     ]
    },
    {
     "data": {
      "image/png": "[encoded data removed]",
      "text/plain": [
       "<matplotlib.figure.Figure at 0x11a93fb90>"
      ]
     },
     "metadata": {},
     "output_type": "display_data"
    }
   ],
   "source": [
    "run_multiNB(X_train_tfidf2, X_test_tfidf2, y_train_label, y_test_label, 'tfidf - 2', 'Label (Open to Close)')"
   ]
  },
  {
   "cell_type": "markdown",
   "metadata": {
    "slideshow": {
     "slide_type": "slide"
    }
   },
   "source": [
    "<h5> Use a grid search on the best Naive Bayes Model predicting daily open to close </h5>"
   ]
  },
  {
   "cell_type": "code",
   "execution_count": 48,
   "metadata": {
    "slideshow": {
     "slide_type": "-"
    }
   },
   "outputs": [
    {
     "name": "stdout",
     "output_type": "stream",
     "text": [
      "best accuracy:  0.537554314091\n",
      "best params:  {'alpha': 1e-05}\n"
     ]
    }
   ],
   "source": [
    "# gridsearch to try to improve MultiNB model using tfidf - 2 and prediting Label\n",
    "from sklearn.model_selection import GridSearchCV\n",
    "multiNB = MultinomialNB()\n",
    "params = [{'alpha':[0.00001,0.0001,0.001,0.01,0.1,1.0]},\n",
    "          {'alpha':[0.00001,0.0001,0.001], 'fit_prior':[True,False]}\n",
    "         ]\n",
    "grid_search = GridSearchCV(estimator=multiNB,param_grid = params,scoring='accuracy',cv=10)\n",
    "grid_search = grid_search.fit(X_train_tfidf2, y_train_label)\n",
    "\n",
    "best_accuracy = grid_search.best_score_\n",
    "print 'best accuracy: ', best_accuracy\n",
    "best_params = grid_search.best_params_\n",
    "print 'best params: ', best_params"
   ]
  },
  {
   "cell_type": "code",
   "execution_count": 49,
   "metadata": {
    "collapsed": true,
    "slideshow": {
     "slide_type": "slide"
    }
   },
   "outputs": [],
   "source": [
    "def run_multiNB_hyperparam(X_train, X_test, y_train, y_test, vect_type, outcome_var):\n",
    "    X_train = X_train.toarray()\n",
    "    X_test = X_test.toarray()\n",
    "    \n",
    "    multiNB = MultinomialNB(alpha=0.00001)\n",
    "    multiNB = multiNB.fit(X_train, y_train)\n",
    "    \n",
    "    y_pred_multi = multiNB.predict(X_test)\n",
    "    prob_multi = multiNB.predict_proba(X_test)[:,1]\n",
    "    accuracy_multi = accuracy_score(y_pred_multi, y_test)\n",
    "    \n",
    "    print 'Multinomial Naive Bayes post-GridSearch'\n",
    "    print 'Vectorizer:', vect_type\n",
    "    print 'Outcome Variable:', outcome_var\n",
    "    print 'Accuracy score is: ' + str(accuracy_multi)\n",
    "    print 'Roc/Auc Score is: ', roc_auc_score(y_test,y_pred_multi)\n",
    "    fpr, tpr, _ = roc_curve(y_test, prob_multi) \n",
    "    \n",
    "    plt.plot(fpr,tpr)\n",
    "    plt.xlabel('false positive rate')\n",
    "    plt.ylabel('true positive rate')\n",
    "    plt.show()\n",
    "    \n",
    "    return pd.crosstab(y_test,y_pred_multi,rownames=['actual'],colnames=['pred'])\n",
    "    "
   ]
  },
  {
   "cell_type": "code",
   "execution_count": 50,
   "metadata": {
    "slideshow": {
     "slide_type": "slide"
    }
   },
   "outputs": [
    {
     "name": "stdout",
     "output_type": "stream",
     "text": [
      "Multinomial Naive Bayes\n",
      "Vectorizer: tfidf - 2\n",
      "Outcome Variable: Label (Open to Close)\n",
      "Accuracy score is: 0.550264550265\n",
      "Roc/Auc Score is:  0.544858870968\n"
     ]
    },
    {
     "data": {
      "image/png": "[encoded data removed]",
      "text/plain": [
       "<matplotlib.figure.Figure at 0x11ab14f90>"
      ]
     },
     "metadata": {},
     "output_type": "display_data"
    },
    {
     "name": "stdout",
     "output_type": "stream",
     "text": [
      "Multinomial Naive Bayes post-GridSearch\n",
      "Vectorizer: tfidf - 2\n",
      "Outcome Variable: Label (Open to Close)\n",
      "Accuracy score is: 0.563492063492\n",
      "Roc/Auc Score is:  0.558719758065\n"
     ]
    },
    {
     "data": {
      "image/png": "[encoded data removed]",
      "text/plain": [
       "<matplotlib.figure.Figure at 0x11ba7d290>"
      ]
     },
     "metadata": {},
     "output_type": "display_data"
    },
    {
     "data": {
      "text/html": [
       "<div>\n",
       "<style>\n",
       "    .dataframe thead tr:only-child th {\n",
       "        text-align: right;\n",
       "    }\n",
       "\n",
       "    .dataframe thead th {\n",
       "        text-align: left;\n",
       "    }\n",
       "\n",
       "    .dataframe tbody tr th {\n",
       "        vertical-align: top;\n",
       "    }\n",
       "</style>\n",
       "<table border=\"1\" class=\"dataframe\">\n",
       "  <thead>\n",
       "    <tr style=\"text-align: right;\">\n",
       "      <th>pred</th>\n",
       "      <th>0</th>\n",
       "      <th>1</th>\n",
       "    </tr>\n",
       "    <tr>\n",
       "      <th>actual</th>\n",
       "      <th></th>\n",
       "      <th></th>\n",
       "    </tr>\n",
       "  </thead>\n",
       "  <tbody>\n",
       "    <tr>\n",
       "      <th>0</th>\n",
       "      <td>48</td>\n",
       "      <td>138</td>\n",
       "    </tr>\n",
       "    <tr>\n",
       "      <th>1</th>\n",
       "      <td>27</td>\n",
       "      <td>165</td>\n",
       "    </tr>\n",
       "  </tbody>\n",
       "</table>\n",
       "</div>"
      ],
      "text/plain": [
       "pred     0    1\n",
       "actual         \n",
       "0       48  138\n",
       "1       27  165"
      ]
     },
     "execution_count": 50,
     "metadata": {},
     "output_type": "execute_result"
    }
   ],
   "source": [
    "run_multiNB(X_train_tfidf2, X_test_tfidf2, y_train_label, y_test_label, 'tfidf - 2', 'Label (Open to Close)')\n",
    "from sklearn.metrics import confusion_matrix\n",
    "conf_matrix = run_multiNB_hyperparam(X_train_tfidf2, X_test_tfidf2, y_train_label, y_test_label, 'tfidf - 2', 'Label (Open to Close)')\n",
    "conf_matrix"
   ]
  }
 ],
 "metadata": {
  "celltoolbar": "Slideshow",
  "kernelspec": {
   "display_name": "Python 2",
   "language": "python",
   "name": "python2"
  },
  "language_info": {
   "codemirror_mode": {
    "name": "ipython",
    "version": 2
   },
   "file_extension": ".py",
   "mimetype": "text/x-python",
   "name": "python",
   "nbconvert_exporter": "python",
   "pygments_lexer": "ipython2",
   "version": "2.7.13"
  }
 },
 "nbformat": 4,
 "nbformat_minor": 2
}
